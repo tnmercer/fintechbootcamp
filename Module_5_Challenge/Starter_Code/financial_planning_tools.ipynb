{
 "cells": [
  {
   "cell_type": "markdown",
   "metadata": {},
   "source": [
    "# Financial Planning with APIs and Simulations\n",
    "\n",
    "In this Challenge, you’ll create two financial analysis tools by using a single Jupyter notebook:\n",
    "\n",
    "Part 1: A financial planner for emergencies. The members will be able to use this tool to visualize their current savings. The members can then determine if they have enough reserves for an emergency fund.\n",
    "\n",
    "Part 2: A financial planner for retirement. This tool will forecast the performance of their retirement portfolio in 30 years. To do this, the tool will make an Alpaca API call via the Alpaca SDK to get historical price data for use in Monte Carlo simulations.\n",
    "\n",
    "You’ll use the information from the Monte Carlo simulation to answer questions about the portfolio in your Jupyter notebook.\n",
    "\n"
   ]
  },
  {
   "cell_type": "code",
   "execution_count": 1,
   "metadata": {},
   "outputs": [],
   "source": [
    "# Import the required libraries and dependencies\n",
    "import os\n",
    "import requests\n",
    "import json\n",
    "import pandas as pd\n",
    "from pandas.tseries.offsets import BDay\n",
    "from pathlib import Path\n",
    "from dotenv import load_dotenv\n",
    "import alpaca_trade_api as tradeapi\n",
    "from MCForecastTools import MCSimulation\n",
    "\n",
    "%matplotlib inline"
   ]
  },
  {
   "cell_type": "code",
   "execution_count": 2,
   "metadata": {},
   "outputs": [
    {
     "data": {
      "text/plain": [
       "True"
      ]
     },
     "execution_count": 2,
     "metadata": {},
     "output_type": "execute_result"
    }
   ],
   "source": [
    "#Set path to local .env file\n",
    "dotenv = Path(\"../../../.env\")\n",
    "\n",
    "# Load the environment variables from the .env file\n",
    "#by calling the load_dotenv function\n",
    "\n",
    "load_dotenv(dotenv)"
   ]
  },
  {
   "cell_type": "markdown",
   "metadata": {},
   "source": [
    "## Part 1: Create a Financial Planner for Emergencies"
   ]
  },
  {
   "cell_type": "markdown",
   "metadata": {},
   "source": [
    "### Evaluate the Cryptocurrency Wallet by Using the Requests Library\n",
    "\n",
    "In this section, you’ll determine the current value of a member’s cryptocurrency wallet. You’ll collect the current prices for the Bitcoin and Ethereum cryptocurrencies by using the Python Requests library. For the prototype, you’ll assume that the member holds the 1.2 Bitcoins (BTC) and 5.3 Ethereum coins (ETH). To do all this, complete the following steps:\n",
    "\n",
    "1. Create a variable named `monthly_income`, and set its value to `12000`.\n",
    "\n",
    "2. Use the Requests library to get the current price (in US dollars) of Bitcoin (BTC) and Ethereum (ETH) by using the API endpoints that the starter code supplies.\n",
    "\n",
    "3. Navigate the JSON response object to access the current price of each coin, and store each in a variable.\n",
    "\n",
    "    > **Hint** Note the specific identifier for each cryptocurrency in the API JSON response. The Bitcoin identifier is `1`, and the Ethereum identifier is `1027`.\n",
    "\n",
    "4. Calculate the value, in US dollars, of the current amount of each cryptocurrency and of the entire cryptocurrency wallet.\n",
    "\n"
   ]
  },
  {
   "cell_type": "code",
   "execution_count": 3,
   "metadata": {},
   "outputs": [],
   "source": [
    "# The current number of coins for each cryptocurrency asset held in the portfolio.\n",
    "btc_coins = 1.2\n",
    "eth_coins = 5.3"
   ]
  },
  {
   "cell_type": "markdown",
   "metadata": {},
   "source": [
    "#### Step 1: Create a variable named `monthly_income`, and set its value to `12000`."
   ]
  },
  {
   "cell_type": "code",
   "execution_count": 4,
   "metadata": {},
   "outputs": [],
   "source": [
    "# The monthly amount for the member's household income\n",
    "# YOUR CODE HERE\n",
    "monthly_income = 12000"
   ]
  },
  {
   "cell_type": "markdown",
   "metadata": {},
   "source": [
    "#### Review the endpoint URLs for the API calls to Free Crypto API in order to get the current pricing information for both BTC and ETH."
   ]
  },
  {
   "cell_type": "code",
   "execution_count": 5,
   "metadata": {},
   "outputs": [],
   "source": [
    "# The Free Crypto API Call endpoint URLs for the held cryptocurrency assets\n",
    "btc_url = \"https://api.alternative.me/v2/ticker/Bitcoin/?convert=USD\"\n",
    "eth_url = \"https://api.alternative.me/v2/ticker/Ethereum/?convert=USD\""
   ]
  },
  {
   "cell_type": "markdown",
   "metadata": {},
   "source": [
    "#### Step 2. Use the Requests library to get the current price (in US dollars) of Bitcoin (BTC) and Ethereum (ETH) by using the API endpoints that the starter code supplied."
   ]
  },
  {
   "cell_type": "code",
   "execution_count": 6,
   "metadata": {},
   "outputs": [
    {
     "name": "stdout",
     "output_type": "stream",
     "text": [
      "{\n",
      "    \"data\": {\n",
      "        \"1\": {\n",
      "            \"circulating_supply\": 19076181,\n",
      "            \"id\": 1,\n",
      "            \"last_updated\": 1656111241,\n",
      "            \"max_supply\": 21000000,\n",
      "            \"name\": \"Bitcoin\",\n",
      "            \"quotes\": {\n",
      "                \"USD\": {\n",
      "                    \"market_cap\": 407362229694,\n",
      "                    \"percent_change_1h\": 0.184295578971462,\n",
      "                    \"percent_change_24h\": 1.4257025334743,\n",
      "                    \"percent_change_7d\": 4.73915361347745,\n",
      "                    \"percentage_change_1h\": 0.184295578971462,\n",
      "                    \"percentage_change_24h\": 1.4257025334743,\n",
      "                    \"percentage_change_7d\": 4.73915361347745,\n",
      "                    \"price\": 21376.0,\n",
      "                    \"volume_24h\": 22170123302\n",
      "                }\n",
      "            },\n",
      "            \"rank\": 1,\n",
      "            \"symbol\": \"BTC\",\n",
      "            \"total_supply\": 19076181,\n",
      "            \"website_slug\": \"bitcoin\"\n",
      "        }\n",
      "    },\n",
      "    \"metadata\": {\n",
      "        \"error\": null,\n",
      "        \"num_cryptocurrencies\": 3116,\n",
      "        \"timestamp\": 1656111241\n",
      "    }\n",
      "}\n"
     ]
    }
   ],
   "source": [
    "# Using the Python requests library, make an API call to access the current price of BTC\n",
    "btc_response = requests.get(btc_url).json()\n",
    "\n",
    "# Use the json.dumps function to review the response data from the API call\n",
    "# Use the indent and sort_keys parameters to make the response object readable\n",
    "# YOUR CODE HERE\n",
    "print(json.dumps(btc_response, indent=4, sort_keys=True))\n"
   ]
  },
  {
   "cell_type": "code",
   "execution_count": 7,
   "metadata": {},
   "outputs": [
    {
     "name": "stdout",
     "output_type": "stream",
     "text": [
      "{\n",
      "    \"data\": {\n",
      "        \"1027\": {\n",
      "            \"circulating_supply\": 121291811,\n",
      "            \"id\": 1027,\n",
      "            \"last_updated\": 1656111244,\n",
      "            \"max_supply\": 0,\n",
      "            \"name\": \"Ethereum\",\n",
      "            \"quotes\": {\n",
      "                \"USD\": {\n",
      "                    \"market_cap\": 149792337953,\n",
      "                    \"percent_change_1h\": 0.844143295667385,\n",
      "                    \"percent_change_24h\": 8.04542384589629,\n",
      "                    \"percent_change_7d\": 15.6543287491062,\n",
      "                    \"percentage_change_1h\": 0.844143295667385,\n",
      "                    \"percentage_change_24h\": 8.04542384589629,\n",
      "                    \"percentage_change_7d\": 15.6543287491062,\n",
      "                    \"price\": 1235.89,\n",
      "                    \"volume_24h\": 16335741120\n",
      "                }\n",
      "            },\n",
      "            \"rank\": 2,\n",
      "            \"symbol\": \"ETH\",\n",
      "            \"total_supply\": 121291811,\n",
      "            \"website_slug\": \"ethereum\"\n",
      "        }\n",
      "    },\n",
      "    \"metadata\": {\n",
      "        \"error\": null,\n",
      "        \"num_cryptocurrencies\": 3116,\n",
      "        \"timestamp\": 1656111244\n",
      "    }\n",
      "}\n"
     ]
    }
   ],
   "source": [
    "# Using the Python requests library, make an API call to access the current price ETH\n",
    "eth_response = requests.get(eth_url).json()\n",
    "\n",
    "# Use the json.dumps function to review the response data from the API call\n",
    "# Use the indent and sort_keys parameters to make the response object readable\n",
    "# YOUR CODE HERE\n",
    "print(json.dumps(eth_response, indent=4, sort_keys=True))"
   ]
  },
  {
   "cell_type": "markdown",
   "metadata": {},
   "source": [
    "#### Step 3: Navigate the JSON response object to access the current price of each coin, and store each in a variable."
   ]
  },
  {
   "cell_type": "code",
   "execution_count": 8,
   "metadata": {},
   "outputs": [
    {
     "data": {
      "text/plain": [
       "21376.0"
      ]
     },
     "execution_count": 8,
     "metadata": {},
     "output_type": "execute_result"
    }
   ],
   "source": [
    "# Navigate the BTC response object to access the current price of BTC\n",
    "btc_price = btc_response['data']['1']['quotes']['USD']['price']\n",
    "\n",
    "# Print the current price of BTC\n",
    "# YOUR CODE HERE\n",
    "btc_price\n"
   ]
  },
  {
   "cell_type": "code",
   "execution_count": 9,
   "metadata": {},
   "outputs": [
    {
     "data": {
      "text/plain": [
       "1235.89"
      ]
     },
     "execution_count": 9,
     "metadata": {},
     "output_type": "execute_result"
    }
   ],
   "source": [
    "# Navigate the BTC response object to access the current price of ETH\n",
    "eth_price = eth_response['data']['1027']['quotes']['USD']['price']\n",
    "\n",
    "# Print the current price of ETH\n",
    "# YOUR CODE HERE\n",
    "eth_price"
   ]
  },
  {
   "cell_type": "markdown",
   "metadata": {},
   "source": [
    "### Step 4: Calculate the value, in US dollars, of the current amount of each cryptocurrency and of the entire cryptocurrency wallet."
   ]
  },
  {
   "cell_type": "code",
   "execution_count": 10,
   "metadata": {},
   "outputs": [
    {
     "data": {
      "text/plain": [
       "25651.2"
      ]
     },
     "execution_count": 10,
     "metadata": {},
     "output_type": "execute_result"
    }
   ],
   "source": [
    "# Compute the current value of the BTC holding \n",
    "btc_value = btc_coins * btc_price\n",
    "\n",
    "# Print current value of your holding in BTC\n",
    "# YOUR CODE HERE\n",
    "btc_value"
   ]
  },
  {
   "cell_type": "code",
   "execution_count": 11,
   "metadata": {},
   "outputs": [
    {
     "data": {
      "text/plain": [
       "6550.217000000001"
      ]
     },
     "execution_count": 11,
     "metadata": {},
     "output_type": "execute_result"
    }
   ],
   "source": [
    "# Compute the current value of the ETH holding \n",
    "eth_value = eth_coins * eth_price\n",
    "\n",
    "# Print current value of your holding in ETH\n",
    "# YOUR CODE HERE\n",
    "eth_value"
   ]
  },
  {
   "cell_type": "code",
   "execution_count": 12,
   "metadata": {},
   "outputs": [
    {
     "data": {
      "text/plain": [
       "32201.417"
      ]
     },
     "execution_count": 12,
     "metadata": {},
     "output_type": "execute_result"
    }
   ],
   "source": [
    "# Compute the total value of the cryptocurrency wallet\n",
    "# Add the value of the BTC holding to the value of the ETH holding\n",
    "total_crypto_wallet = btc_value + eth_value\n",
    "\n",
    "# Print current cryptocurrency wallet balance\n",
    "# YOUR CODE HERE\n",
    "total_crypto_wallet\n"
   ]
  },
  {
   "cell_type": "markdown",
   "metadata": {},
   "source": [
    "### Evaluate the Stock and Bond Holdings by Using the Alpaca SDK\n",
    "\n",
    "In this section, you’ll determine the current value of a member’s stock and bond holdings. You’ll make an API call to Alpaca via the Alpaca SDK to get the current closing prices of the SPDR S&P 500 ETF Trust (ticker: SPY) and of the iShares Core US Aggregate Bond ETF (ticker: AGG). For the prototype, assume that the member holds 110 shares of SPY, which represents the stock portion of their portfolio, and 200 shares of AGG, which represents the bond portion. To do all this, complete the following steps:\n",
    "\n",
    "1. In the `Starter_Code` folder, create an environment file (`.env`) to store the values of your Alpaca API key and Alpaca secret key.\n",
    "\n",
    "2. Set the variables for the Alpaca API and secret keys. Using the Alpaca SDK, create the Alpaca `tradeapi.REST` object. In this object, include the parameters for the Alpaca API key, the secret key, and the version number.\n",
    "\n",
    "3. Set the following parameters for the Alpaca API call:\n",
    "\n",
    "    - `tickers`: Use the tickers for the member’s stock and bond holdings.\n",
    "\n",
    "    - `timeframe`: Use a time frame of one day.\n",
    "\n",
    "    - `start_date` and `end_date`: Use the same date for these parameters, and format them with the date of the previous weekday (or `2020-08-07`). This is because you want the one closing price for the most-recent trading day.\n",
    "\n",
    "4. Get the current closing prices for `SPY` and `AGG` by using the Alpaca `get_bars` function. Format the response as a Pandas DataFrame by including the `df` property at the end of the `get_bars` function.\n",
    "\n",
    "5. Navigating the Alpaca response DataFrame, select the `SPY` and `AGG` closing prices, and store them as variables.\n",
    "\n",
    "6. Calculate the value, in US dollars, of the current amount of shares in each of the stock and bond portions of the portfolio, and print the results.\n"
   ]
  },
  {
   "cell_type": "markdown",
   "metadata": {},
   "source": [
    "#### Review the total number of shares held in both (SPY) and (AGG)."
   ]
  },
  {
   "cell_type": "code",
   "execution_count": 13,
   "metadata": {},
   "outputs": [],
   "source": [
    "# Current amount of shares held in both the stock (SPY) and bond (AGG) portion of the portfolio.\n",
    "spy_shares = 110\n",
    "agg_shares = 200\n"
   ]
  },
  {
   "cell_type": "markdown",
   "metadata": {},
   "source": [
    "#### Step 1: In the `Starter_Code` folder, create an environment file (`.env`) to store the values of your Alpaca API key and Alpaca secret key."
   ]
  },
  {
   "cell_type": "markdown",
   "metadata": {},
   "source": [
    "#### Step 2: Set the variables for the Alpaca API and secret keys. Using the Alpaca SDK, create the Alpaca `tradeapi.REST` object. In this object, include the parameters for the Alpaca API key, the secret key, and the version number."
   ]
  },
  {
   "cell_type": "code",
   "execution_count": 14,
   "metadata": {},
   "outputs": [
    {
     "name": "stdout",
     "output_type": "stream",
     "text": [
      "<class 'str'> <class 'str'>\n"
     ]
    }
   ],
   "source": [
    "# Set the variables for the Alpaca API and secret keys\n",
    "# YOUR CODE HERE\n",
    "# YOUR CODE HERE\n",
    "alpaca_api_key = os.getenv('ALPACA_API_KEY')\n",
    "alpaca_secret_key = os.getenv('ALPACA_SECRET_KEY')\n",
    "\n",
    "print(type(alpaca_api_key), type(alpaca_secret_key))\n",
    "\n",
    "# Create the Alpaca tradeapi.REST object\n",
    "# YOUR CODE HERE\n",
    "alpaca = tradeapi.REST(\n",
    "    alpaca_api_key,\n",
    "    alpaca_secret_key,\n",
    "    api_version=\"v2\"\n",
    ")\n"
   ]
  },
  {
   "cell_type": "markdown",
   "metadata": {},
   "source": [
    "#### Step 3: Set the following parameters for the Alpaca API call:\n",
    "\n",
    "- `tickers`: Use the tickers for the member’s stock and bond holdings.\n",
    "\n",
    "- `timeframe`: Use a time frame of one day.\n",
    "\n",
    "- `start_date` and `end_date`: Use the same date for these parameters, and format them with the date of the previous weekday (or `2020-08-07`). This is because you want the one closing price for the most-recent trading day.\n"
   ]
  },
  {
   "cell_type": "raw",
   "metadata": {},
   "source": []
  },
  {
   "cell_type": "code",
   "execution_count": 15,
   "metadata": {},
   "outputs": [
    {
     "name": "stdout",
     "output_type": "stream",
     "text": [
      "2022-06-23T00:00:00-04:00 2022-06-23T00:00:00-04:00\n"
     ]
    }
   ],
   "source": [
    "# Set the tickers for both the bond and stock portion of the portfolio\n",
    "# YOUR CODE HERE\n",
    "tickers = ['AGG','SPY']\n",
    "\n",
    "# Set timeframe to 1Day\n",
    "# YOUR CODE HERE\n",
    "timeframe = '1D'\n",
    "\n",
    "# Format current date as ISO format\n",
    "# Set both the start and end date at the date of your prior weekday \n",
    "# This will give you the closing price of the previous trading day\n",
    "# Alternatively you can use a start and end date of 2020-08-07\n",
    "# YOUR CODE HERE\n",
    "# YOUR CODE HERE\n",
    "\n",
    "start_date = pd.Timestamp('now', tz=\"America/New_York\") - BDay(1)\n",
    "start_date = start_date.normalize().isoformat()\n",
    "end_date = start_date\n",
    "\n",
    "#check dates\n",
    "print(start_date, end_date)\n"
   ]
  },
  {
   "cell_type": "markdown",
   "metadata": {},
   "source": [
    "#### Step 4: Get the current closing prices for `SPY` and `AGG` by using the Alpaca `get_bars` function. Format the response as a Pandas DataFrame by including the `df` property at the end of the `get_bars` function."
   ]
  },
  {
   "cell_type": "code",
   "execution_count": 16,
   "metadata": {},
   "outputs": [
    {
     "data": {
      "text/html": [
       "<div>\n",
       "<style scoped>\n",
       "    .dataframe tbody tr th:only-of-type {\n",
       "        vertical-align: middle;\n",
       "    }\n",
       "\n",
       "    .dataframe tbody tr th {\n",
       "        vertical-align: top;\n",
       "    }\n",
       "\n",
       "    .dataframe thead tr th {\n",
       "        text-align: left;\n",
       "    }\n",
       "\n",
       "    .dataframe thead tr:last-of-type th {\n",
       "        text-align: right;\n",
       "    }\n",
       "</style>\n",
       "<table border=\"1\" class=\"dataframe\">\n",
       "  <thead>\n",
       "    <tr>\n",
       "      <th></th>\n",
       "      <th colspan=\"7\" halign=\"left\">AGG</th>\n",
       "      <th colspan=\"7\" halign=\"left\">SPY</th>\n",
       "    </tr>\n",
       "    <tr>\n",
       "      <th></th>\n",
       "      <th>open</th>\n",
       "      <th>high</th>\n",
       "      <th>low</th>\n",
       "      <th>close</th>\n",
       "      <th>volume</th>\n",
       "      <th>trade_count</th>\n",
       "      <th>vwap</th>\n",
       "      <th>open</th>\n",
       "      <th>high</th>\n",
       "      <th>low</th>\n",
       "      <th>close</th>\n",
       "      <th>volume</th>\n",
       "      <th>trade_count</th>\n",
       "      <th>vwap</th>\n",
       "    </tr>\n",
       "    <tr>\n",
       "      <th>timestamp</th>\n",
       "      <th></th>\n",
       "      <th></th>\n",
       "      <th></th>\n",
       "      <th></th>\n",
       "      <th></th>\n",
       "      <th></th>\n",
       "      <th></th>\n",
       "      <th></th>\n",
       "      <th></th>\n",
       "      <th></th>\n",
       "      <th></th>\n",
       "      <th></th>\n",
       "      <th></th>\n",
       "      <th></th>\n",
       "    </tr>\n",
       "  </thead>\n",
       "  <tbody>\n",
       "    <tr>\n",
       "      <th>2022-06-23 04:00:00+00:00</th>\n",
       "      <td>101.25</td>\n",
       "      <td>101.76</td>\n",
       "      <td>101.125</td>\n",
       "      <td>101.21</td>\n",
       "      <td>7760715</td>\n",
       "      <td>25697</td>\n",
       "      <td>101.363615</td>\n",
       "      <td>376.69</td>\n",
       "      <td>378.83</td>\n",
       "      <td>372.89</td>\n",
       "      <td>378.06</td>\n",
       "      <td>78643521</td>\n",
       "      <td>623105</td>\n",
       "      <td>376.219755</td>\n",
       "    </tr>\n",
       "  </tbody>\n",
       "</table>\n",
       "</div>"
      ],
      "text/plain": [
       "                              AGG                                    \\\n",
       "                             open    high      low   close   volume   \n",
       "timestamp                                                             \n",
       "2022-06-23 04:00:00+00:00  101.25  101.76  101.125  101.21  7760715   \n",
       "\n",
       "                                                      SPY                  \\\n",
       "                          trade_count        vwap    open    high     low   \n",
       "timestamp                                                                   \n",
       "2022-06-23 04:00:00+00:00       25697  101.363615  376.69  378.83  372.89   \n",
       "\n",
       "                                                                     \n",
       "                            close    volume trade_count        vwap  \n",
       "timestamp                                                            \n",
       "2022-06-23 04:00:00+00:00  378.06  78643521      623105  376.219755  "
      ]
     },
     "execution_count": 16,
     "metadata": {},
     "output_type": "execute_result"
    }
   ],
   "source": [
    "# Use the Alpaca get_bars function to get current closing prices the portfolio\n",
    "# Be sure to set the `df` property after the function to format the response object as a DataFrame\n",
    "# YOUR CODE HERE\n",
    "\n",
    "portfolio_df = alpaca.get_bars(\n",
    "    tickers,\n",
    "    timeframe,\n",
    "    start = start_date,\n",
    "    end = end_date\n",
    ").df\n",
    "\n",
    "portfolio_df\n",
    "\n",
    "# Reorganize the DataFrame\n",
    "# Separate ticker data\n",
    "# YOUR CODE HERE\n",
    "AGG = portfolio_df[portfolio_df['symbol'] == 'AGG'].drop('symbol',axis=1)\n",
    "SPY = portfolio_df[portfolio_df['symbol'] == 'SPY'].drop('symbol',axis=1)\n",
    "\n",
    "# Concatenate the ticker DataFrames\n",
    "# YOUR CODE HERE\n",
    "\n",
    "portfolio_df = pd.concat([AGG,SPY], axis=1, keys=['AGG','SPY'])\n",
    "\n",
    "# Review the first 5 rows of the Alpaca DataFrame\n",
    "# YOUR CODE HERE\n",
    "portfolio_df.head()\n"
   ]
  },
  {
   "cell_type": "markdown",
   "metadata": {},
   "source": [
    "#### Step 5: Navigating the Alpaca response DataFrame, select the `SPY` and `AGG` closing prices, and store them as variables."
   ]
  },
  {
   "cell_type": "code",
   "execution_count": 17,
   "metadata": {},
   "outputs": [
    {
     "data": {
      "text/plain": [
       "101.21"
      ]
     },
     "execution_count": 17,
     "metadata": {},
     "output_type": "execute_result"
    }
   ],
   "source": [
    "# Access the closing price for AGG from the Alpaca DataFrame\n",
    "# Converting the value to a floating point number\n",
    "agg_close_price = float(portfolio_df['AGG']['close'])\n",
    "\n",
    "# Print the AGG closing price\n",
    "# YOUR CODE HERE\n",
    "agg_close_price\n"
   ]
  },
  {
   "cell_type": "code",
   "execution_count": 18,
   "metadata": {},
   "outputs": [
    {
     "data": {
      "text/plain": [
       "378.06"
      ]
     },
     "execution_count": 18,
     "metadata": {},
     "output_type": "execute_result"
    }
   ],
   "source": [
    "# Access the closing price for SPY from the Alpaca DataFrame\n",
    "# Converting the value to a floating point number\n",
    "spy_close_price = float(portfolio_df['SPY']['close'])\n",
    "\n",
    "# Print the SPY closing price\n",
    "# YOUR CODE HERE\n",
    "spy_close_price"
   ]
  },
  {
   "cell_type": "markdown",
   "metadata": {},
   "source": [
    "#### Step 6: Calculate the value, in US dollars, of the current amount of shares in each of the stock and bond portions of the portfolio, and print the results."
   ]
  },
  {
   "cell_type": "code",
   "execution_count": 19,
   "metadata": {},
   "outputs": [
    {
     "data": {
      "text/plain": [
       "20242.0"
      ]
     },
     "execution_count": 19,
     "metadata": {},
     "output_type": "execute_result"
    }
   ],
   "source": [
    "# Calculate the current value of the bond portion of the portfolio\n",
    "agg_value = agg_shares * agg_close_price\n",
    "\n",
    "# Print the current value of the bond portfolio\n",
    "# YOUR CODE HERE\n",
    "agg_value\n"
   ]
  },
  {
   "cell_type": "code",
   "execution_count": 20,
   "metadata": {},
   "outputs": [
    {
     "data": {
      "text/plain": [
       "41586.6"
      ]
     },
     "execution_count": 20,
     "metadata": {},
     "output_type": "execute_result"
    }
   ],
   "source": [
    "# Calculate the current value of the stock portion of the portfolio\n",
    "spy_value = spy_shares * spy_close_price\n",
    "\n",
    "# Print the current value of the stock portfolio\n",
    "# YOUR CODE HERE\n",
    "spy_value\n"
   ]
  },
  {
   "cell_type": "code",
   "execution_count": 21,
   "metadata": {},
   "outputs": [
    {
     "data": {
      "text/plain": [
       "61828.6"
      ]
     },
     "execution_count": 21,
     "metadata": {},
     "output_type": "execute_result"
    }
   ],
   "source": [
    "# Calculate the total value of the stock and bond portion of the portfolio\n",
    "total_stocks_bonds = spy_value + agg_value\n",
    "\n",
    "# Print the current balance of the stock and bond portion of the portfolio\n",
    "# YOUR CODE HERE\n",
    "total_stocks_bonds\n"
   ]
  },
  {
   "cell_type": "code",
   "execution_count": 22,
   "metadata": {},
   "outputs": [
    {
     "data": {
      "text/plain": [
       "94030.01699999999"
      ]
     },
     "execution_count": 22,
     "metadata": {},
     "output_type": "execute_result"
    }
   ],
   "source": [
    "# Calculate the total value of the member's entire savings portfolio\n",
    "# Add the value of the cryptocurrency walled to the value of the total stocks and bonds\n",
    "total_portfolio = total_crypto_wallet + total_stocks_bonds\n",
    "\n",
    "# Print current cryptocurrency wallet balance\n",
    "# YOUR CODE HERE\n",
    "total_portfolio\n"
   ]
  },
  {
   "cell_type": "markdown",
   "metadata": {},
   "source": [
    "### Evaluate the Emergency Fund\n",
    "\n",
    "In this section, you’ll use the valuations for the cryptocurrency wallet and for the stock and bond portions of the portfolio to determine if the credit union member has enough savings to build an emergency fund into their financial plan. To do this, complete the following steps:\n",
    "\n",
    "1. Create a Python list named `savings_data` that has two elements. The first element contains the total value of the cryptocurrency wallet. The second element contains the total value of the stock and bond portions of the portfolio.\n",
    "\n",
    "2. Use the `savings_data` list to create a Pandas DataFrame named `savings_df`, and then display this DataFrame. The function to create the DataFrame should take the following three parameters:\n",
    "\n",
    "    - `savings_data`: Use the list that you just created.\n",
    "\n",
    "    - `columns`: Set this parameter equal to a Python list with a single value called `amount`.\n",
    "\n",
    "    - `index`: Set this parameter equal to a Python list with the values of `crypto` and `stock/bond`.\n",
    "\n",
    "3. Use the `savings_df` DataFrame to plot a pie chart that visualizes the composition of the member’s portfolio. The y-axis of the pie chart uses `amount`. Be sure to add a title.\n",
    "\n",
    "4. Using Python, determine if the current portfolio has enough to create an emergency fund as part of the member’s financial plan. Ideally, an emergency fund should equal to three times the member’s monthly income. To do this, implement the following steps:\n",
    "\n",
    "    1. Create a variable named `emergency_fund_value`, and set it equal to three times the value of the member’s `monthly_income` of $12000. (You set this earlier in Part 1).\n",
    "\n",
    "    2. Create a series of three if statements to determine if the member’s total portfolio is large enough to fund the emergency portfolio:\n",
    "\n",
    "        1. If the total portfolio value is greater than the emergency fund value, display a message congratulating the member for having enough money in this fund.\n",
    "\n",
    "        2. Else if the total portfolio value is equal to the emergency fund value, display a message congratulating the member on reaching this important financial goal.\n",
    "\n",
    "        3. Else the total portfolio is less than the emergency fund value, so display a message showing how many dollars away the member is from reaching the goal. (Subtract the total portfolio value from the emergency fund value.)\n"
   ]
  },
  {
   "cell_type": "markdown",
   "metadata": {},
   "source": [
    "#### Step 1: Create a Python list named `savings_data` that has two elements. The first element contains the total value of the cryptocurrency wallet. The second element contains the total value of the stock and bond portions of the portfolio."
   ]
  },
  {
   "cell_type": "code",
   "execution_count": 23,
   "metadata": {},
   "outputs": [
    {
     "data": {
      "text/plain": [
       "(32201.417, 61828.6)"
      ]
     },
     "execution_count": 23,
     "metadata": {},
     "output_type": "execute_result"
    }
   ],
   "source": [
    "# Consolidate financial assets data into a Python list\n",
    "# YOUR CODE HERE\n",
    "savings_data = (total_crypto_wallet, total_stocks_bonds)\n",
    "\n",
    "# Review the Python list savings_data\n",
    "# YOUR CODE HERE\n",
    "savings_data\n",
    "    "
   ]
  },
  {
   "cell_type": "markdown",
   "metadata": {},
   "source": [
    "#### Step 2: Use the `savings_data` list to create a Pandas DataFrame named `savings_df`, and then display this DataFrame. The function to create the DataFrame should take the following three parameters:\n",
    "\n",
    "- `savings_data`: Use the list that you just created.\n",
    "\n",
    "- `columns`: Set this parameter equal to a Python list with a single value called `amount`.\n",
    "\n",
    "- `index`: Set this parameter equal to a Python list with the values of `crypto` and `stock/bond`.\n"
   ]
  },
  {
   "cell_type": "code",
   "execution_count": 46,
   "metadata": {},
   "outputs": [
    {
     "data": {
      "text/html": [
       "<div>\n",
       "<style scoped>\n",
       "    .dataframe tbody tr th:only-of-type {\n",
       "        vertical-align: middle;\n",
       "    }\n",
       "\n",
       "    .dataframe tbody tr th {\n",
       "        vertical-align: top;\n",
       "    }\n",
       "\n",
       "    .dataframe thead th {\n",
       "        text-align: right;\n",
       "    }\n",
       "</style>\n",
       "<table border=\"1\" class=\"dataframe\">\n",
       "  <thead>\n",
       "    <tr style=\"text-align: right;\">\n",
       "      <th></th>\n",
       "      <th>Amount</th>\n",
       "    </tr>\n",
       "  </thead>\n",
       "  <tbody>\n",
       "    <tr>\n",
       "      <th>Crypto</th>\n",
       "      <td>32201.417</td>\n",
       "    </tr>\n",
       "    <tr>\n",
       "      <th>Stocks and Bonds</th>\n",
       "      <td>61828.600</td>\n",
       "    </tr>\n",
       "  </tbody>\n",
       "</table>\n",
       "</div>"
      ],
      "text/plain": [
       "                     Amount\n",
       "Crypto            32201.417\n",
       "Stocks and Bonds  61828.600"
      ]
     },
     "execution_count": 46,
     "metadata": {},
     "output_type": "execute_result"
    }
   ],
   "source": [
    "# Create a Pandas DataFrame called savings_df \n",
    "# YOUR CODE HERE\n",
    "savings_df = pd.DataFrame(\n",
    "    savings_data, \n",
    "    index=[\"Crypto\",\"Stocks and Bonds\"], \n",
    "    columns=[\"Amount\"]\n",
    ")\n",
    "\n",
    "# Display the savings_df DataFrame\n",
    "# YOUR CODE HERE\n",
    "savings_df\n"
   ]
  },
  {
   "cell_type": "markdown",
   "metadata": {},
   "source": [
    "#### Step 3: Use the `savings_df` DataFrame to plot a pie chart that visualizes the composition of the member’s portfolio. The y-axis of the pie chart uses `amount`. Be sure to add a title."
   ]
  },
  {
   "cell_type": "code",
   "execution_count": 25,
   "metadata": {},
   "outputs": [
    {
     "data": {
      "text/plain": [
       "<AxesSubplot:title={'center':'Total Value of Portfolio: $94030.01699999999'}>"
      ]
     },
     "execution_count": 25,
     "metadata": {},
     "output_type": "execute_result"
    },
    {
     "data": {
      "image/png": "[encoded data removed]",
      "text/plain": [
       "<Figure size 432x432 with 1 Axes>"
      ]
     },
     "metadata": {},
     "output_type": "display_data"
    }
   ],
   "source": [
    "# Plot the total value of the member's portfolio (crypto and stock/bond) in a pie chart\n",
    "# YOUR CODE HERE\n",
    "\n",
    "labels = [f'{savings_df.index[0]}: ${savings_df.iloc[0][0]: .2f}', f'{savings_df.index[1]}: ${savings_df.iloc[1][0]: .2f}']\n",
    "colors = ['grey','purple']\n",
    "\n",
    "savings_df.plot(\n",
    "    kind='pie', \n",
    "    y=\"Amount\", \n",
    "    title=f\"Total Value of Portfolio: ${total_portfolio}\", \n",
    "    legend=False, \n",
    "    labels=labels,\n",
    "    ylabel='',\n",
    "    figsize=(6,6),\n",
    "    colors=colors,\n",
    "    wedgeprops={'linewidth': 3.5, 'edgecolor': 'white'}\n",
    ")\n"
   ]
  },
  {
   "cell_type": "markdown",
   "metadata": {},
   "source": [
    "#### Step 4: Using Python, determine if the current portfolio has enough to create an emergency fund as part of the member’s financial plan. Ideally, an emergency fund should equal to three times the member’s monthly income. To do this, implement the following steps:\n",
    "\n",
    "Step 1. Create a variable named `emergency_fund_value`, and set it equal to three times the value of the member’s `monthly_income` of 12000. (You set this earlier in Part 1).\n",
    "\n",
    "Step 2. Create a series of three if statements to determine if the member’s total portfolio is large enough to fund the emergency portfolio:\n",
    "\n",
    "* If the total portfolio value is greater than the emergency fund value, display a message congratulating the member for having enough money in this fund.\n",
    "\n",
    "* Else if the total portfolio value is equal to the emergency fund value, display a message congratulating the member on reaching this important financial goal.\n",
    "\n",
    "* Else the total portfolio is less than the emergency fund value, so display a message showing how many dollars away the member is from reaching the goal. (Subtract the total portfolio value from the emergency fund value.)\n"
   ]
  },
  {
   "cell_type": "markdown",
   "metadata": {},
   "source": [
    "##### Step 4-1: Create a variable named `emergency_fund_value`, and set it equal to three times the value of the member’s `monthly_income` of 12000. (You set this earlier in Part 1)."
   ]
  },
  {
   "cell_type": "code",
   "execution_count": 26,
   "metadata": {},
   "outputs": [
    {
     "data": {
      "text/plain": [
       "36000"
      ]
     },
     "execution_count": 26,
     "metadata": {},
     "output_type": "execute_result"
    }
   ],
   "source": [
    "# Create a variable named emergency_fund_value\n",
    "# YOUR CODE HERE\n",
    "emergency_fund_value = monthly_income * 3\n",
    "emergency_fund_value "
   ]
  },
  {
   "cell_type": "markdown",
   "metadata": {},
   "source": [
    "##### Step 4-2: Create a series of three if statements to determine if the member’s total portfolio is large enough to fund the emergency portfolio:\n",
    "\n",
    "* If the total portfolio value is greater than the emergency fund value, display a message congratulating the member for having enough money in this fund.\n",
    "\n",
    "* Else if the total portfolio value is equal to the emergency fund value, display a message congratulating the member on reaching this important financial goal.\n",
    "\n",
    "* Else the total portfolio is less than the emergency fund value, so display a message showing how many dollars away the member is from reaching the goal. (Subtract the total portfolio value from the emergency fund value.)"
   ]
  },
  {
   "cell_type": "code",
   "execution_count": 27,
   "metadata": {},
   "outputs": [
    {
     "name": "stdout",
     "output_type": "stream",
     "text": [
      "Congratulations! Your portfolio balance is funded with more than 3 times your monthly income, which should set you in a good financial position to cover most emergencies!\n"
     ]
    }
   ],
   "source": [
    "# Evaluate the possibility of creating an emergency fund with 3 conditions:\n",
    "# YOUR CODE HERE\n",
    "# YOUR CODE HERE\n",
    "# YOUR CODE HERE\n",
    "\n",
    "def emergency_portfolio_check(total_portfolio, emergency_fund_value):\n",
    "    if total_portfolio > emergency_fund_value:\n",
    "        print(\"Congratulations! Your portfolio balance is funded with more than 3 times your monthly income, which should set you in a good financial position to cover most emergencies!\")\n",
    "    \n",
    "    elif total_portfolio == emergency_fund_value:\n",
    "         print(\"Congratulations! Your balance is now 3 times your monthly income, which is a good buffer to cover most emergencies.\")\n",
    "                \n",
    "    else:\n",
    "        funding_deficit = emergency_fund_value - total_portfolio\n",
    "        print(f\"You are ${funding_deficit: .2f} away from your recommended emergency savings goal.\")\n",
    "\n",
    "emergency_portfolio_check(total_portfolio,emergency_fund_value)        \n",
    "\n"
   ]
  },
  {
   "cell_type": "markdown",
   "metadata": {},
   "source": [
    "## Part 2: Create a Financial Planner for Retirement"
   ]
  },
  {
   "cell_type": "markdown",
   "metadata": {},
   "source": [
    "### Create the Monte Carlo Simulation\n",
    "\n",
    "In this section, you’ll use the MCForecastTools library to create a Monte Carlo simulation for the member’s savings portfolio. To do this, complete the following steps:\n",
    "\n",
    "1. Make an API call via the Alpaca SDK to get 3 years of historical closing prices for a traditional 60/40 portfolio split: 60% stocks (SPY) and 40% bonds (AGG).\n",
    "\n",
    "2. Run a Monte Carlo simulation of 500 samples and 30 years for the 60/40 portfolio, and then plot the results.The following image shows the overlay line plot resulting from a simulation with these characteristics. However, because a random number generator is used to run each live Monte Carlo simulation, your image will differ slightly from this exact image:\n",
    "\n",
    "![A screenshot depicts the resulting plot.](Images/5-4-monte-carlo-line-plot.png)\n",
    "\n",
    "3. Plot the probability distribution of the Monte Carlo simulation. Plot the probability distribution of the Monte Carlo simulation. The following image shows the histogram plot resulting from a simulation with these characteristics. However, because a random number generator is used to run each live Monte Carlo simulation, your image will differ slightly from this exact image:\n",
    "\n",
    "![A screenshot depicts the histogram plot.](Images/5-4-monte-carlo-histogram.png)\n",
    "\n",
    "4. Generate the summary statistics for the Monte Carlo simulation.\n",
    "\n"
   ]
  },
  {
   "cell_type": "markdown",
   "metadata": {},
   "source": [
    "#### Step 1: Make an API call via the Alpaca SDK to get 3 years of historical closing prices for a traditional 60/40 portfolio split: 60% stocks (SPY) and 40% bonds (AGG)."
   ]
  },
  {
   "cell_type": "code",
   "execution_count": 28,
   "metadata": {},
   "outputs": [
    {
     "name": "stdout",
     "output_type": "stream",
     "text": [
      "2019-06-23T00:00:00-04:00 2022-06-23T00:00:00-04:00\n"
     ]
    }
   ],
   "source": [
    "# Set start and end dates of 3 years back from your current date\n",
    "# Alternatively, you can use an end date of 2020-08-07 and work 3 years back from that date \n",
    "# YOUR CODE HERE\n",
    "# YOUR CODE HERE\n",
    "\n",
    "end_date = pd.Timestamp('now', tz=\"America/New_York\")- BDay(1)\n",
    "start_date = end_date - pd.offsets.DateOffset(years=3)\n",
    "\n",
    "start_date = start_date.normalize().isoformat()\n",
    "end_date = end_date.normalize().isoformat()\n",
    "\n",
    "# check dates\n",
    "print(start_date, end_date)\n"
   ]
  },
  {
   "cell_type": "code",
   "execution_count": 29,
   "metadata": {},
   "outputs": [
    {
     "data": {
      "text/html": [
       "<div>\n",
       "<style scoped>\n",
       "    .dataframe tbody tr th:only-of-type {\n",
       "        vertical-align: middle;\n",
       "    }\n",
       "\n",
       "    .dataframe tbody tr th {\n",
       "        vertical-align: top;\n",
       "    }\n",
       "\n",
       "    .dataframe thead tr th {\n",
       "        text-align: left;\n",
       "    }\n",
       "\n",
       "    .dataframe thead tr:last-of-type th {\n",
       "        text-align: right;\n",
       "    }\n",
       "</style>\n",
       "<table border=\"1\" class=\"dataframe\">\n",
       "  <thead>\n",
       "    <tr>\n",
       "      <th></th>\n",
       "      <th colspan=\"7\" halign=\"left\">AGG</th>\n",
       "      <th colspan=\"7\" halign=\"left\">SPY</th>\n",
       "    </tr>\n",
       "    <tr>\n",
       "      <th></th>\n",
       "      <th>open</th>\n",
       "      <th>high</th>\n",
       "      <th>low</th>\n",
       "      <th>close</th>\n",
       "      <th>volume</th>\n",
       "      <th>trade_count</th>\n",
       "      <th>vwap</th>\n",
       "      <th>open</th>\n",
       "      <th>high</th>\n",
       "      <th>low</th>\n",
       "      <th>close</th>\n",
       "      <th>volume</th>\n",
       "      <th>trade_count</th>\n",
       "      <th>vwap</th>\n",
       "    </tr>\n",
       "    <tr>\n",
       "      <th>timestamp</th>\n",
       "      <th></th>\n",
       "      <th></th>\n",
       "      <th></th>\n",
       "      <th></th>\n",
       "      <th></th>\n",
       "      <th></th>\n",
       "      <th></th>\n",
       "      <th></th>\n",
       "      <th></th>\n",
       "      <th></th>\n",
       "      <th></th>\n",
       "      <th></th>\n",
       "      <th></th>\n",
       "      <th></th>\n",
       "    </tr>\n",
       "  </thead>\n",
       "  <tbody>\n",
       "    <tr>\n",
       "      <th>2019-06-24 04:00:00+00:00</th>\n",
       "      <td>111.23</td>\n",
       "      <td>111.3766</td>\n",
       "      <td>111.2200</td>\n",
       "      <td>111.32</td>\n",
       "      <td>3079794</td>\n",
       "      <td>16767</td>\n",
       "      <td>111.300802</td>\n",
       "      <td>294.18</td>\n",
       "      <td>294.58</td>\n",
       "      <td>293.470</td>\n",
       "      <td>293.64</td>\n",
       "      <td>47610730</td>\n",
       "      <td>203286</td>\n",
       "      <td>293.971447</td>\n",
       "    </tr>\n",
       "    <tr>\n",
       "      <th>2019-06-25 04:00:00+00:00</th>\n",
       "      <td>111.36</td>\n",
       "      <td>111.4400</td>\n",
       "      <td>111.2200</td>\n",
       "      <td>111.34</td>\n",
       "      <td>3111092</td>\n",
       "      <td>14344</td>\n",
       "      <td>111.364505</td>\n",
       "      <td>293.67</td>\n",
       "      <td>293.73</td>\n",
       "      <td>290.640</td>\n",
       "      <td>290.76</td>\n",
       "      <td>82344336</td>\n",
       "      <td>301447</td>\n",
       "      <td>292.000459</td>\n",
       "    </tr>\n",
       "    <tr>\n",
       "      <th>2019-06-26 04:00:00+00:00</th>\n",
       "      <td>111.29</td>\n",
       "      <td>111.3100</td>\n",
       "      <td>111.0600</td>\n",
       "      <td>111.09</td>\n",
       "      <td>3703224</td>\n",
       "      <td>13654</td>\n",
       "      <td>111.151757</td>\n",
       "      <td>291.78</td>\n",
       "      <td>292.31</td>\n",
       "      <td>290.345</td>\n",
       "      <td>290.47</td>\n",
       "      <td>52064906</td>\n",
       "      <td>226135</td>\n",
       "      <td>291.035618</td>\n",
       "    </tr>\n",
       "    <tr>\n",
       "      <th>2019-06-27 04:00:00+00:00</th>\n",
       "      <td>111.25</td>\n",
       "      <td>111.4100</td>\n",
       "      <td>111.1633</td>\n",
       "      <td>111.40</td>\n",
       "      <td>2963646</td>\n",
       "      <td>14735</td>\n",
       "      <td>111.338162</td>\n",
       "      <td>291.29</td>\n",
       "      <td>292.06</td>\n",
       "      <td>290.890</td>\n",
       "      <td>291.50</td>\n",
       "      <td>40484164</td>\n",
       "      <td>185583</td>\n",
       "      <td>291.584832</td>\n",
       "    </tr>\n",
       "    <tr>\n",
       "      <th>2019-06-28 04:00:00+00:00</th>\n",
       "      <td>111.36</td>\n",
       "      <td>111.4684</td>\n",
       "      <td>111.3200</td>\n",
       "      <td>111.35</td>\n",
       "      <td>9887791</td>\n",
       "      <td>19668</td>\n",
       "      <td>111.395360</td>\n",
       "      <td>292.57</td>\n",
       "      <td>293.55</td>\n",
       "      <td>292.010</td>\n",
       "      <td>293.00</td>\n",
       "      <td>59508955</td>\n",
       "      <td>246484</td>\n",
       "      <td>292.797839</td>\n",
       "    </tr>\n",
       "  </tbody>\n",
       "</table>\n",
       "</div>"
      ],
      "text/plain": [
       "                              AGG                                       \\\n",
       "                             open      high       low   close   volume   \n",
       "timestamp                                                                \n",
       "2019-06-24 04:00:00+00:00  111.23  111.3766  111.2200  111.32  3079794   \n",
       "2019-06-25 04:00:00+00:00  111.36  111.4400  111.2200  111.34  3111092   \n",
       "2019-06-26 04:00:00+00:00  111.29  111.3100  111.0600  111.09  3703224   \n",
       "2019-06-27 04:00:00+00:00  111.25  111.4100  111.1633  111.40  2963646   \n",
       "2019-06-28 04:00:00+00:00  111.36  111.4684  111.3200  111.35  9887791   \n",
       "\n",
       "                                                      SPY                   \\\n",
       "                          trade_count        vwap    open    high      low   \n",
       "timestamp                                                                    \n",
       "2019-06-24 04:00:00+00:00       16767  111.300802  294.18  294.58  293.470   \n",
       "2019-06-25 04:00:00+00:00       14344  111.364505  293.67  293.73  290.640   \n",
       "2019-06-26 04:00:00+00:00       13654  111.151757  291.78  292.31  290.345   \n",
       "2019-06-27 04:00:00+00:00       14735  111.338162  291.29  292.06  290.890   \n",
       "2019-06-28 04:00:00+00:00       19668  111.395360  292.57  293.55  292.010   \n",
       "\n",
       "                                                                     \n",
       "                            close    volume trade_count        vwap  \n",
       "timestamp                                                            \n",
       "2019-06-24 04:00:00+00:00  293.64  47610730      203286  293.971447  \n",
       "2019-06-25 04:00:00+00:00  290.76  82344336      301447  292.000459  \n",
       "2019-06-26 04:00:00+00:00  290.47  52064906      226135  291.035618  \n",
       "2019-06-27 04:00:00+00:00  291.50  40484164      185583  291.584832  \n",
       "2019-06-28 04:00:00+00:00  293.00  59508955      246484  292.797839  "
      ]
     },
     "metadata": {},
     "output_type": "display_data"
    },
    {
     "data": {
      "text/html": [
       "<div>\n",
       "<style scoped>\n",
       "    .dataframe tbody tr th:only-of-type {\n",
       "        vertical-align: middle;\n",
       "    }\n",
       "\n",
       "    .dataframe tbody tr th {\n",
       "        vertical-align: top;\n",
       "    }\n",
       "\n",
       "    .dataframe thead tr th {\n",
       "        text-align: left;\n",
       "    }\n",
       "\n",
       "    .dataframe thead tr:last-of-type th {\n",
       "        text-align: right;\n",
       "    }\n",
       "</style>\n",
       "<table border=\"1\" class=\"dataframe\">\n",
       "  <thead>\n",
       "    <tr>\n",
       "      <th></th>\n",
       "      <th colspan=\"7\" halign=\"left\">AGG</th>\n",
       "      <th colspan=\"7\" halign=\"left\">SPY</th>\n",
       "    </tr>\n",
       "    <tr>\n",
       "      <th></th>\n",
       "      <th>open</th>\n",
       "      <th>high</th>\n",
       "      <th>low</th>\n",
       "      <th>close</th>\n",
       "      <th>volume</th>\n",
       "      <th>trade_count</th>\n",
       "      <th>vwap</th>\n",
       "      <th>open</th>\n",
       "      <th>high</th>\n",
       "      <th>low</th>\n",
       "      <th>close</th>\n",
       "      <th>volume</th>\n",
       "      <th>trade_count</th>\n",
       "      <th>vwap</th>\n",
       "    </tr>\n",
       "    <tr>\n",
       "      <th>timestamp</th>\n",
       "      <th></th>\n",
       "      <th></th>\n",
       "      <th></th>\n",
       "      <th></th>\n",
       "      <th></th>\n",
       "      <th></th>\n",
       "      <th></th>\n",
       "      <th></th>\n",
       "      <th></th>\n",
       "      <th></th>\n",
       "      <th></th>\n",
       "      <th></th>\n",
       "      <th></th>\n",
       "      <th></th>\n",
       "    </tr>\n",
       "  </thead>\n",
       "  <tbody>\n",
       "    <tr>\n",
       "      <th>2022-06-16 04:00:00+00:00</th>\n",
       "      <td>99.24</td>\n",
       "      <td>100.3600</td>\n",
       "      <td>99.1432</td>\n",
       "      <td>100.35</td>\n",
       "      <td>9328681</td>\n",
       "      <td>33998</td>\n",
       "      <td>99.905633</td>\n",
       "      <td>370.54</td>\n",
       "      <td>370.940</td>\n",
       "      <td>364.0799</td>\n",
       "      <td>366.65</td>\n",
       "      <td>134508514</td>\n",
       "      <td>906307</td>\n",
       "      <td>368.466260</td>\n",
       "    </tr>\n",
       "    <tr>\n",
       "      <th>2022-06-17 04:00:00+00:00</th>\n",
       "      <td>100.42</td>\n",
       "      <td>100.5700</td>\n",
       "      <td>99.9800</td>\n",
       "      <td>100.34</td>\n",
       "      <td>9891839</td>\n",
       "      <td>26374</td>\n",
       "      <td>100.372650</td>\n",
       "      <td>365.43</td>\n",
       "      <td>369.380</td>\n",
       "      <td>362.1700</td>\n",
       "      <td>365.86</td>\n",
       "      <td>109255759</td>\n",
       "      <td>821350</td>\n",
       "      <td>366.263193</td>\n",
       "    </tr>\n",
       "    <tr>\n",
       "      <th>2022-06-21 04:00:00+00:00</th>\n",
       "      <td>100.02</td>\n",
       "      <td>100.2600</td>\n",
       "      <td>99.7900</td>\n",
       "      <td>99.94</td>\n",
       "      <td>7769462</td>\n",
       "      <td>24356</td>\n",
       "      <td>99.992280</td>\n",
       "      <td>371.90</td>\n",
       "      <td>376.525</td>\n",
       "      <td>371.8100</td>\n",
       "      <td>375.07</td>\n",
       "      <td>76966205</td>\n",
       "      <td>578265</td>\n",
       "      <td>374.376305</td>\n",
       "    </tr>\n",
       "    <tr>\n",
       "      <th>2022-06-22 04:00:00+00:00</th>\n",
       "      <td>100.67</td>\n",
       "      <td>100.9296</td>\n",
       "      <td>100.6650</td>\n",
       "      <td>100.79</td>\n",
       "      <td>9430887</td>\n",
       "      <td>30103</td>\n",
       "      <td>100.802688</td>\n",
       "      <td>370.68</td>\n",
       "      <td>378.720</td>\n",
       "      <td>370.1800</td>\n",
       "      <td>374.39</td>\n",
       "      <td>89625876</td>\n",
       "      <td>604343</td>\n",
       "      <td>375.146941</td>\n",
       "    </tr>\n",
       "    <tr>\n",
       "      <th>2022-06-23 04:00:00+00:00</th>\n",
       "      <td>101.25</td>\n",
       "      <td>101.7600</td>\n",
       "      <td>101.1250</td>\n",
       "      <td>101.21</td>\n",
       "      <td>7760715</td>\n",
       "      <td>25697</td>\n",
       "      <td>101.363615</td>\n",
       "      <td>376.69</td>\n",
       "      <td>378.830</td>\n",
       "      <td>372.8900</td>\n",
       "      <td>378.06</td>\n",
       "      <td>78643521</td>\n",
       "      <td>623105</td>\n",
       "      <td>376.219755</td>\n",
       "    </tr>\n",
       "  </tbody>\n",
       "</table>\n",
       "</div>"
      ],
      "text/plain": [
       "                              AGG                                       \\\n",
       "                             open      high       low   close   volume   \n",
       "timestamp                                                                \n",
       "2022-06-16 04:00:00+00:00   99.24  100.3600   99.1432  100.35  9328681   \n",
       "2022-06-17 04:00:00+00:00  100.42  100.5700   99.9800  100.34  9891839   \n",
       "2022-06-21 04:00:00+00:00  100.02  100.2600   99.7900   99.94  7769462   \n",
       "2022-06-22 04:00:00+00:00  100.67  100.9296  100.6650  100.79  9430887   \n",
       "2022-06-23 04:00:00+00:00  101.25  101.7600  101.1250  101.21  7760715   \n",
       "\n",
       "                                                      SPY                     \\\n",
       "                          trade_count        vwap    open     high       low   \n",
       "timestamp                                                                      \n",
       "2022-06-16 04:00:00+00:00       33998   99.905633  370.54  370.940  364.0799   \n",
       "2022-06-17 04:00:00+00:00       26374  100.372650  365.43  369.380  362.1700   \n",
       "2022-06-21 04:00:00+00:00       24356   99.992280  371.90  376.525  371.8100   \n",
       "2022-06-22 04:00:00+00:00       30103  100.802688  370.68  378.720  370.1800   \n",
       "2022-06-23 04:00:00+00:00       25697  101.363615  376.69  378.830  372.8900   \n",
       "\n",
       "                                                                      \n",
       "                            close     volume trade_count        vwap  \n",
       "timestamp                                                             \n",
       "2022-06-16 04:00:00+00:00  366.65  134508514      906307  368.466260  \n",
       "2022-06-17 04:00:00+00:00  365.86  109255759      821350  366.263193  \n",
       "2022-06-21 04:00:00+00:00  375.07   76966205      578265  374.376305  \n",
       "2022-06-22 04:00:00+00:00  374.39   89625876      604343  375.146941  \n",
       "2022-06-23 04:00:00+00:00  378.06   78643521      623105  376.219755  "
      ]
     },
     "metadata": {},
     "output_type": "display_data"
    }
   ],
   "source": [
    "# Use the Alpaca get_bars function to make the API call to get the 3 years worth of pricing data\n",
    "# The tickers and timeframe parameters should have been set in Part 1 of this activity \n",
    "# The start and end dates should be updated with the information set above\n",
    "# Remember to add the df property to the end of the call so the response is returned as a DataFrame\n",
    "# YOUR CODE HERE\n",
    "\n",
    "hist_pricing_data = alpaca.get_bars(\n",
    "    tickers,\n",
    "    timeframe,\n",
    "    start=start_date,\n",
    "    end=end_date\n",
    ").df\n",
    "\n",
    "\n",
    "# Reorganize the DataFrame\n",
    "# Separate ticker data\n",
    "# YOUR CODE HERE\n",
    "\n",
    "AGG = hist_pricing_data[hist_pricing_data['symbol'] == 'AGG'].drop('symbol',axis=1)\n",
    "SPY = hist_pricing_data[hist_pricing_data['symbol'] == 'SPY'].drop('symbol',axis=1)\n",
    "\n",
    "# Concatenate the ticker DataFrames\n",
    "# YOUR CODE HERE\n",
    "\n",
    "hist_pricing_data = pd.concat([AGG,SPY], axis=1, keys=['AGG','SPY'])\n",
    "\n",
    "# Display both the first and last five rows of the DataFrame\n",
    "# YOUR CODE HERE\n",
    "# YOUR CODE HERE\n",
    "\n",
    "display(hist_pricing_data.head())\n",
    "display(hist_pricing_data.tail())\n"
   ]
  },
  {
   "cell_type": "markdown",
   "metadata": {},
   "source": [
    "#### Step 2: Run a Monte Carlo simulation of 500 samples and 30 years for the 60/40 portfolio, and then plot the results."
   ]
  },
  {
   "cell_type": "code",
   "execution_count": 30,
   "metadata": {},
   "outputs": [
    {
     "data": {
      "text/html": [
       "<div>\n",
       "<style scoped>\n",
       "    .dataframe tbody tr th:only-of-type {\n",
       "        vertical-align: middle;\n",
       "    }\n",
       "\n",
       "    .dataframe tbody tr th {\n",
       "        vertical-align: top;\n",
       "    }\n",
       "\n",
       "    .dataframe thead tr th {\n",
       "        text-align: left;\n",
       "    }\n",
       "\n",
       "    .dataframe thead tr:last-of-type th {\n",
       "        text-align: right;\n",
       "    }\n",
       "</style>\n",
       "<table border=\"1\" class=\"dataframe\">\n",
       "  <thead>\n",
       "    <tr>\n",
       "      <th></th>\n",
       "      <th colspan=\"8\" halign=\"left\">AGG</th>\n",
       "      <th colspan=\"8\" halign=\"left\">SPY</th>\n",
       "    </tr>\n",
       "    <tr>\n",
       "      <th></th>\n",
       "      <th>open</th>\n",
       "      <th>high</th>\n",
       "      <th>low</th>\n",
       "      <th>close</th>\n",
       "      <th>volume</th>\n",
       "      <th>trade_count</th>\n",
       "      <th>vwap</th>\n",
       "      <th>daily_return</th>\n",
       "      <th>open</th>\n",
       "      <th>high</th>\n",
       "      <th>low</th>\n",
       "      <th>close</th>\n",
       "      <th>volume</th>\n",
       "      <th>trade_count</th>\n",
       "      <th>vwap</th>\n",
       "      <th>daily_return</th>\n",
       "    </tr>\n",
       "    <tr>\n",
       "      <th>timestamp</th>\n",
       "      <th></th>\n",
       "      <th></th>\n",
       "      <th></th>\n",
       "      <th></th>\n",
       "      <th></th>\n",
       "      <th></th>\n",
       "      <th></th>\n",
       "      <th></th>\n",
       "      <th></th>\n",
       "      <th></th>\n",
       "      <th></th>\n",
       "      <th></th>\n",
       "      <th></th>\n",
       "      <th></th>\n",
       "      <th></th>\n",
       "      <th></th>\n",
       "    </tr>\n",
       "  </thead>\n",
       "  <tbody>\n",
       "    <tr>\n",
       "      <th>2019-06-24 04:00:00+00:00</th>\n",
       "      <td>111.23</td>\n",
       "      <td>111.3766</td>\n",
       "      <td>111.2200</td>\n",
       "      <td>111.32</td>\n",
       "      <td>3079794</td>\n",
       "      <td>16767</td>\n",
       "      <td>111.300802</td>\n",
       "      <td>NaN</td>\n",
       "      <td>294.18</td>\n",
       "      <td>294.58</td>\n",
       "      <td>293.470</td>\n",
       "      <td>293.64</td>\n",
       "      <td>47610730</td>\n",
       "      <td>203286</td>\n",
       "      <td>293.971447</td>\n",
       "      <td>NaN</td>\n",
       "    </tr>\n",
       "    <tr>\n",
       "      <th>2019-06-25 04:00:00+00:00</th>\n",
       "      <td>111.36</td>\n",
       "      <td>111.4400</td>\n",
       "      <td>111.2200</td>\n",
       "      <td>111.34</td>\n",
       "      <td>3111092</td>\n",
       "      <td>14344</td>\n",
       "      <td>111.364505</td>\n",
       "      <td>0.000180</td>\n",
       "      <td>293.67</td>\n",
       "      <td>293.73</td>\n",
       "      <td>290.640</td>\n",
       "      <td>290.76</td>\n",
       "      <td>82344336</td>\n",
       "      <td>301447</td>\n",
       "      <td>292.000459</td>\n",
       "      <td>-0.009808</td>\n",
       "    </tr>\n",
       "    <tr>\n",
       "      <th>2019-06-26 04:00:00+00:00</th>\n",
       "      <td>111.29</td>\n",
       "      <td>111.3100</td>\n",
       "      <td>111.0600</td>\n",
       "      <td>111.09</td>\n",
       "      <td>3703224</td>\n",
       "      <td>13654</td>\n",
       "      <td>111.151757</td>\n",
       "      <td>-0.002245</td>\n",
       "      <td>291.78</td>\n",
       "      <td>292.31</td>\n",
       "      <td>290.345</td>\n",
       "      <td>290.47</td>\n",
       "      <td>52064906</td>\n",
       "      <td>226135</td>\n",
       "      <td>291.035618</td>\n",
       "      <td>-0.000997</td>\n",
       "    </tr>\n",
       "    <tr>\n",
       "      <th>2019-06-27 04:00:00+00:00</th>\n",
       "      <td>111.25</td>\n",
       "      <td>111.4100</td>\n",
       "      <td>111.1633</td>\n",
       "      <td>111.40</td>\n",
       "      <td>2963646</td>\n",
       "      <td>14735</td>\n",
       "      <td>111.338162</td>\n",
       "      <td>0.002791</td>\n",
       "      <td>291.29</td>\n",
       "      <td>292.06</td>\n",
       "      <td>290.890</td>\n",
       "      <td>291.50</td>\n",
       "      <td>40484164</td>\n",
       "      <td>185583</td>\n",
       "      <td>291.584832</td>\n",
       "      <td>0.003546</td>\n",
       "    </tr>\n",
       "    <tr>\n",
       "      <th>2019-06-28 04:00:00+00:00</th>\n",
       "      <td>111.36</td>\n",
       "      <td>111.4684</td>\n",
       "      <td>111.3200</td>\n",
       "      <td>111.35</td>\n",
       "      <td>9887791</td>\n",
       "      <td>19668</td>\n",
       "      <td>111.395360</td>\n",
       "      <td>-0.000449</td>\n",
       "      <td>292.57</td>\n",
       "      <td>293.55</td>\n",
       "      <td>292.010</td>\n",
       "      <td>293.00</td>\n",
       "      <td>59508955</td>\n",
       "      <td>246484</td>\n",
       "      <td>292.797839</td>\n",
       "      <td>0.005146</td>\n",
       "    </tr>\n",
       "  </tbody>\n",
       "</table>\n",
       "</div>"
      ],
      "text/plain": [
       "                              AGG                                       \\\n",
       "                             open      high       low   close   volume   \n",
       "timestamp                                                                \n",
       "2019-06-24 04:00:00+00:00  111.23  111.3766  111.2200  111.32  3079794   \n",
       "2019-06-25 04:00:00+00:00  111.36  111.4400  111.2200  111.34  3111092   \n",
       "2019-06-26 04:00:00+00:00  111.29  111.3100  111.0600  111.09  3703224   \n",
       "2019-06-27 04:00:00+00:00  111.25  111.4100  111.1633  111.40  2963646   \n",
       "2019-06-28 04:00:00+00:00  111.36  111.4684  111.3200  111.35  9887791   \n",
       "\n",
       "                                                                   SPY  \\\n",
       "                          trade_count        vwap daily_return    open   \n",
       "timestamp                                                                \n",
       "2019-06-24 04:00:00+00:00       16767  111.300802          NaN  294.18   \n",
       "2019-06-25 04:00:00+00:00       14344  111.364505     0.000180  293.67   \n",
       "2019-06-26 04:00:00+00:00       13654  111.151757    -0.002245  291.78   \n",
       "2019-06-27 04:00:00+00:00       14735  111.338162     0.002791  291.29   \n",
       "2019-06-28 04:00:00+00:00       19668  111.395360    -0.000449  292.57   \n",
       "\n",
       "                                                                          \\\n",
       "                             high      low   close    volume trade_count   \n",
       "timestamp                                                                  \n",
       "2019-06-24 04:00:00+00:00  294.58  293.470  293.64  47610730      203286   \n",
       "2019-06-25 04:00:00+00:00  293.73  290.640  290.76  82344336      301447   \n",
       "2019-06-26 04:00:00+00:00  292.31  290.345  290.47  52064906      226135   \n",
       "2019-06-27 04:00:00+00:00  292.06  290.890  291.50  40484164      185583   \n",
       "2019-06-28 04:00:00+00:00  293.55  292.010  293.00  59508955      246484   \n",
       "\n",
       "                                                    \n",
       "                                 vwap daily_return  \n",
       "timestamp                                           \n",
       "2019-06-24 04:00:00+00:00  293.971447          NaN  \n",
       "2019-06-25 04:00:00+00:00  292.000459    -0.009808  \n",
       "2019-06-26 04:00:00+00:00  291.035618    -0.000997  \n",
       "2019-06-27 04:00:00+00:00  291.584832     0.003546  \n",
       "2019-06-28 04:00:00+00:00  292.797839     0.005146  "
      ]
     },
     "execution_count": 30,
     "metadata": {},
     "output_type": "execute_result"
    }
   ],
   "source": [
    "# Configure the Monte Carlo simulation to forecast 30 years cumulative returns\n",
    "# The weights should be split 40% to AGG and 60% to SPY.\n",
    "# Run 500 samples.\n",
    "# YOUR CODE HERE\n",
    "\n",
    "mc_simulation_30 = MCSimulation(\n",
    "    portfolio_data = hist_pricing_data,\n",
    "    weights = [0.4,0.6],\n",
    "    num_simulation=500,\n",
    "    num_trading_days= 252 * 30\n",
    ")\n",
    "\n",
    "\n",
    "# Review the simulation input data\n",
    "# YOUR CODE HERE\n",
    "mc_simulation_30.portfolio_data.head()\n"
   ]
  },
  {
   "cell_type": "code",
   "execution_count": 31,
   "metadata": {},
   "outputs": [
    {
     "name": "stdout",
     "output_type": "stream",
     "text": [
      "Running Monte Carlo simulation number 0.\n",
      "Running Monte Carlo simulation number 10.\n",
      "Running Monte Carlo simulation number 20.\n",
      "Running Monte Carlo simulation number 30.\n",
      "Running Monte Carlo simulation number 40.\n",
      "Running Monte Carlo simulation number 50.\n",
      "Running Monte Carlo simulation number 60.\n",
      "Running Monte Carlo simulation number 70.\n",
      "Running Monte Carlo simulation number 80.\n",
      "Running Monte Carlo simulation number 90.\n",
      "Running Monte Carlo simulation number 100.\n"
     ]
    },
    {
     "name": "stderr",
     "output_type": "stream",
     "text": [
      "C:\\Users\\tonin\\OneDrive\\Fintech-Workspace\\fintechbootcamp\\Module_5_Challenge\\Starter_Code\\MCForecastTools.py:117: PerformanceWarning: DataFrame is highly fragmented.  This is usually the result of calling `frame.insert` many times, which has poor performance.  Consider joining all columns at once using pd.concat(axis=1) instead.  To get a de-fragmented frame, use `newframe = frame.copy()`\n",
      "  portfolio_cumulative_returns[n] = (1 + sim_df.fillna(0)).cumprod()\n"
     ]
    },
    {
     "name": "stdout",
     "output_type": "stream",
     "text": [
      "Running Monte Carlo simulation number 110.\n",
      "Running Monte Carlo simulation number 120.\n",
      "Running Monte Carlo simulation number 130.\n",
      "Running Monte Carlo simulation number 140.\n",
      "Running Monte Carlo simulation number 150.\n",
      "Running Monte Carlo simulation number 160.\n",
      "Running Monte Carlo simulation number 170.\n",
      "Running Monte Carlo simulation number 180.\n",
      "Running Monte Carlo simulation number 190.\n",
      "Running Monte Carlo simulation number 200.\n",
      "Running Monte Carlo simulation number 210.\n",
      "Running Monte Carlo simulation number 220.\n",
      "Running Monte Carlo simulation number 230.\n",
      "Running Monte Carlo simulation number 240.\n",
      "Running Monte Carlo simulation number 250.\n",
      "Running Monte Carlo simulation number 260.\n",
      "Running Monte Carlo simulation number 270.\n",
      "Running Monte Carlo simulation number 280.\n",
      "Running Monte Carlo simulation number 290.\n",
      "Running Monte Carlo simulation number 300.\n",
      "Running Monte Carlo simulation number 310.\n",
      "Running Monte Carlo simulation number 320.\n",
      "Running Monte Carlo simulation number 330.\n",
      "Running Monte Carlo simulation number 340.\n",
      "Running Monte Carlo simulation number 350.\n",
      "Running Monte Carlo simulation number 360.\n",
      "Running Monte Carlo simulation number 370.\n",
      "Running Monte Carlo simulation number 380.\n",
      "Running Monte Carlo simulation number 390.\n",
      "Running Monte Carlo simulation number 400.\n",
      "Running Monte Carlo simulation number 410.\n",
      "Running Monte Carlo simulation number 420.\n",
      "Running Monte Carlo simulation number 430.\n",
      "Running Monte Carlo simulation number 440.\n",
      "Running Monte Carlo simulation number 450.\n",
      "Running Monte Carlo simulation number 460.\n",
      "Running Monte Carlo simulation number 470.\n",
      "Running Monte Carlo simulation number 480.\n",
      "Running Monte Carlo simulation number 490.\n"
     ]
    },
    {
     "data": {
      "text/html": [
       "<div>\n",
       "<style scoped>\n",
       "    .dataframe tbody tr th:only-of-type {\n",
       "        vertical-align: middle;\n",
       "    }\n",
       "\n",
       "    .dataframe tbody tr th {\n",
       "        vertical-align: top;\n",
       "    }\n",
       "\n",
       "    .dataframe thead th {\n",
       "        text-align: right;\n",
       "    }\n",
       "</style>\n",
       "<table border=\"1\" class=\"dataframe\">\n",
       "  <thead>\n",
       "    <tr style=\"text-align: right;\">\n",
       "      <th></th>\n",
       "      <th>0</th>\n",
       "      <th>1</th>\n",
       "      <th>2</th>\n",
       "      <th>3</th>\n",
       "      <th>4</th>\n",
       "      <th>5</th>\n",
       "      <th>6</th>\n",
       "      <th>7</th>\n",
       "      <th>8</th>\n",
       "      <th>9</th>\n",
       "      <th>...</th>\n",
       "      <th>490</th>\n",
       "      <th>491</th>\n",
       "      <th>492</th>\n",
       "      <th>493</th>\n",
       "      <th>494</th>\n",
       "      <th>495</th>\n",
       "      <th>496</th>\n",
       "      <th>497</th>\n",
       "      <th>498</th>\n",
       "      <th>499</th>\n",
       "    </tr>\n",
       "  </thead>\n",
       "  <tbody>\n",
       "    <tr>\n",
       "      <th>0</th>\n",
       "      <td>1.000000</td>\n",
       "      <td>1.000000</td>\n",
       "      <td>1.000000</td>\n",
       "      <td>1.000000</td>\n",
       "      <td>1.000000</td>\n",
       "      <td>1.000000</td>\n",
       "      <td>1.000000</td>\n",
       "      <td>1.000000</td>\n",
       "      <td>1.000000</td>\n",
       "      <td>1.000000</td>\n",
       "      <td>...</td>\n",
       "      <td>1.000000</td>\n",
       "      <td>1.000000</td>\n",
       "      <td>1.000000</td>\n",
       "      <td>1.000000</td>\n",
       "      <td>1.000000</td>\n",
       "      <td>1.000000</td>\n",
       "      <td>1.000000</td>\n",
       "      <td>1.000000</td>\n",
       "      <td>1.000000</td>\n",
       "      <td>1.000000</td>\n",
       "    </tr>\n",
       "    <tr>\n",
       "      <th>1</th>\n",
       "      <td>0.992775</td>\n",
       "      <td>1.005360</td>\n",
       "      <td>1.009193</td>\n",
       "      <td>1.012341</td>\n",
       "      <td>1.003143</td>\n",
       "      <td>1.003602</td>\n",
       "      <td>0.999896</td>\n",
       "      <td>0.994145</td>\n",
       "      <td>0.998135</td>\n",
       "      <td>1.009003</td>\n",
       "      <td>...</td>\n",
       "      <td>0.997752</td>\n",
       "      <td>0.986889</td>\n",
       "      <td>1.013296</td>\n",
       "      <td>0.988544</td>\n",
       "      <td>0.997284</td>\n",
       "      <td>0.992158</td>\n",
       "      <td>0.994745</td>\n",
       "      <td>1.003172</td>\n",
       "      <td>1.017598</td>\n",
       "      <td>0.990130</td>\n",
       "    </tr>\n",
       "    <tr>\n",
       "      <th>2</th>\n",
       "      <td>1.008237</td>\n",
       "      <td>1.021142</td>\n",
       "      <td>1.004669</td>\n",
       "      <td>1.015990</td>\n",
       "      <td>1.015679</td>\n",
       "      <td>1.006258</td>\n",
       "      <td>0.995177</td>\n",
       "      <td>0.986213</td>\n",
       "      <td>0.989964</td>\n",
       "      <td>1.013733</td>\n",
       "      <td>...</td>\n",
       "      <td>0.987307</td>\n",
       "      <td>0.987166</td>\n",
       "      <td>1.008203</td>\n",
       "      <td>0.984837</td>\n",
       "      <td>0.987577</td>\n",
       "      <td>1.000522</td>\n",
       "      <td>0.994004</td>\n",
       "      <td>1.003892</td>\n",
       "      <td>1.025187</td>\n",
       "      <td>0.983476</td>\n",
       "    </tr>\n",
       "    <tr>\n",
       "      <th>3</th>\n",
       "      <td>1.014893</td>\n",
       "      <td>1.021029</td>\n",
       "      <td>1.002298</td>\n",
       "      <td>1.004957</td>\n",
       "      <td>1.005113</td>\n",
       "      <td>1.017102</td>\n",
       "      <td>1.002755</td>\n",
       "      <td>0.979199</td>\n",
       "      <td>0.994901</td>\n",
       "      <td>1.007858</td>\n",
       "      <td>...</td>\n",
       "      <td>0.994630</td>\n",
       "      <td>0.977524</td>\n",
       "      <td>1.004841</td>\n",
       "      <td>0.987909</td>\n",
       "      <td>1.002847</td>\n",
       "      <td>0.991059</td>\n",
       "      <td>0.998826</td>\n",
       "      <td>1.004629</td>\n",
       "      <td>1.040524</td>\n",
       "      <td>0.993900</td>\n",
       "    </tr>\n",
       "    <tr>\n",
       "      <th>4</th>\n",
       "      <td>0.999891</td>\n",
       "      <td>1.036934</td>\n",
       "      <td>1.005739</td>\n",
       "      <td>1.011049</td>\n",
       "      <td>0.992677</td>\n",
       "      <td>1.005348</td>\n",
       "      <td>1.006308</td>\n",
       "      <td>0.973122</td>\n",
       "      <td>0.994438</td>\n",
       "      <td>1.001828</td>\n",
       "      <td>...</td>\n",
       "      <td>0.989985</td>\n",
       "      <td>0.976724</td>\n",
       "      <td>1.002649</td>\n",
       "      <td>0.992438</td>\n",
       "      <td>0.997251</td>\n",
       "      <td>1.007284</td>\n",
       "      <td>1.002352</td>\n",
       "      <td>0.997058</td>\n",
       "      <td>1.023938</td>\n",
       "      <td>0.982905</td>\n",
       "    </tr>\n",
       "    <tr>\n",
       "      <th>...</th>\n",
       "      <td>...</td>\n",
       "      <td>...</td>\n",
       "      <td>...</td>\n",
       "      <td>...</td>\n",
       "      <td>...</td>\n",
       "      <td>...</td>\n",
       "      <td>...</td>\n",
       "      <td>...</td>\n",
       "      <td>...</td>\n",
       "      <td>...</td>\n",
       "      <td>...</td>\n",
       "      <td>...</td>\n",
       "      <td>...</td>\n",
       "      <td>...</td>\n",
       "      <td>...</td>\n",
       "      <td>...</td>\n",
       "      <td>...</td>\n",
       "      <td>...</td>\n",
       "      <td>...</td>\n",
       "      <td>...</td>\n",
       "      <td>...</td>\n",
       "    </tr>\n",
       "    <tr>\n",
       "      <th>7556</th>\n",
       "      <td>5.166218</td>\n",
       "      <td>3.363535</td>\n",
       "      <td>12.229407</td>\n",
       "      <td>3.912074</td>\n",
       "      <td>3.420358</td>\n",
       "      <td>5.436207</td>\n",
       "      <td>3.079739</td>\n",
       "      <td>3.220288</td>\n",
       "      <td>3.198615</td>\n",
       "      <td>0.953407</td>\n",
       "      <td>...</td>\n",
       "      <td>2.102707</td>\n",
       "      <td>11.432413</td>\n",
       "      <td>6.683648</td>\n",
       "      <td>3.997931</td>\n",
       "      <td>7.086733</td>\n",
       "      <td>1.444245</td>\n",
       "      <td>2.776027</td>\n",
       "      <td>1.549018</td>\n",
       "      <td>4.345011</td>\n",
       "      <td>2.139798</td>\n",
       "    </tr>\n",
       "    <tr>\n",
       "      <th>7557</th>\n",
       "      <td>5.215122</td>\n",
       "      <td>3.381426</td>\n",
       "      <td>12.113085</td>\n",
       "      <td>3.954484</td>\n",
       "      <td>3.440595</td>\n",
       "      <td>5.471983</td>\n",
       "      <td>3.079993</td>\n",
       "      <td>3.211266</td>\n",
       "      <td>3.215361</td>\n",
       "      <td>0.947762</td>\n",
       "      <td>...</td>\n",
       "      <td>2.081937</td>\n",
       "      <td>11.475731</td>\n",
       "      <td>6.670647</td>\n",
       "      <td>3.966596</td>\n",
       "      <td>7.138006</td>\n",
       "      <td>1.433123</td>\n",
       "      <td>2.784343</td>\n",
       "      <td>1.562218</td>\n",
       "      <td>4.327271</td>\n",
       "      <td>2.161772</td>\n",
       "    </tr>\n",
       "    <tr>\n",
       "      <th>7558</th>\n",
       "      <td>5.250213</td>\n",
       "      <td>3.331037</td>\n",
       "      <td>12.038434</td>\n",
       "      <td>3.937568</td>\n",
       "      <td>3.492907</td>\n",
       "      <td>5.452622</td>\n",
       "      <td>3.153382</td>\n",
       "      <td>3.243766</td>\n",
       "      <td>3.181593</td>\n",
       "      <td>0.954565</td>\n",
       "      <td>...</td>\n",
       "      <td>2.089368</td>\n",
       "      <td>11.428468</td>\n",
       "      <td>6.652826</td>\n",
       "      <td>3.944982</td>\n",
       "      <td>7.108364</td>\n",
       "      <td>1.430015</td>\n",
       "      <td>2.818461</td>\n",
       "      <td>1.576409</td>\n",
       "      <td>4.329429</td>\n",
       "      <td>2.117313</td>\n",
       "    </tr>\n",
       "    <tr>\n",
       "      <th>7559</th>\n",
       "      <td>5.179964</td>\n",
       "      <td>3.335204</td>\n",
       "      <td>12.243580</td>\n",
       "      <td>3.923673</td>\n",
       "      <td>3.489932</td>\n",
       "      <td>5.483912</td>\n",
       "      <td>3.135666</td>\n",
       "      <td>3.240256</td>\n",
       "      <td>3.106972</td>\n",
       "      <td>0.947526</td>\n",
       "      <td>...</td>\n",
       "      <td>2.136340</td>\n",
       "      <td>11.360853</td>\n",
       "      <td>6.611936</td>\n",
       "      <td>3.948533</td>\n",
       "      <td>7.017564</td>\n",
       "      <td>1.435837</td>\n",
       "      <td>2.811103</td>\n",
       "      <td>1.561387</td>\n",
       "      <td>4.406770</td>\n",
       "      <td>2.075826</td>\n",
       "    </tr>\n",
       "    <tr>\n",
       "      <th>7560</th>\n",
       "      <td>5.191056</td>\n",
       "      <td>3.339832</td>\n",
       "      <td>12.392267</td>\n",
       "      <td>3.961365</td>\n",
       "      <td>3.475174</td>\n",
       "      <td>5.523634</td>\n",
       "      <td>3.105047</td>\n",
       "      <td>3.210323</td>\n",
       "      <td>3.080499</td>\n",
       "      <td>0.944613</td>\n",
       "      <td>...</td>\n",
       "      <td>2.165945</td>\n",
       "      <td>11.282555</td>\n",
       "      <td>6.634149</td>\n",
       "      <td>3.930543</td>\n",
       "      <td>6.994735</td>\n",
       "      <td>1.431130</td>\n",
       "      <td>2.869123</td>\n",
       "      <td>1.571447</td>\n",
       "      <td>4.377997</td>\n",
       "      <td>2.077030</td>\n",
       "    </tr>\n",
       "  </tbody>\n",
       "</table>\n",
       "<p>7561 rows × 500 columns</p>\n",
       "</div>"
      ],
      "text/plain": [
       "           0         1          2         3         4         5         6    \\\n",
       "0     1.000000  1.000000   1.000000  1.000000  1.000000  1.000000  1.000000   \n",
       "1     0.992775  1.005360   1.009193  1.012341  1.003143  1.003602  0.999896   \n",
       "2     1.008237  1.021142   1.004669  1.015990  1.015679  1.006258  0.995177   \n",
       "3     1.014893  1.021029   1.002298  1.004957  1.005113  1.017102  1.002755   \n",
       "4     0.999891  1.036934   1.005739  1.011049  0.992677  1.005348  1.006308   \n",
       "...        ...       ...        ...       ...       ...       ...       ...   \n",
       "7556  5.166218  3.363535  12.229407  3.912074  3.420358  5.436207  3.079739   \n",
       "7557  5.215122  3.381426  12.113085  3.954484  3.440595  5.471983  3.079993   \n",
       "7558  5.250213  3.331037  12.038434  3.937568  3.492907  5.452622  3.153382   \n",
       "7559  5.179964  3.335204  12.243580  3.923673  3.489932  5.483912  3.135666   \n",
       "7560  5.191056  3.339832  12.392267  3.961365  3.475174  5.523634  3.105047   \n",
       "\n",
       "           7         8         9    ...       490        491       492  \\\n",
       "0     1.000000  1.000000  1.000000  ...  1.000000   1.000000  1.000000   \n",
       "1     0.994145  0.998135  1.009003  ...  0.997752   0.986889  1.013296   \n",
       "2     0.986213  0.989964  1.013733  ...  0.987307   0.987166  1.008203   \n",
       "3     0.979199  0.994901  1.007858  ...  0.994630   0.977524  1.004841   \n",
       "4     0.973122  0.994438  1.001828  ...  0.989985   0.976724  1.002649   \n",
       "...        ...       ...       ...  ...       ...        ...       ...   \n",
       "7556  3.220288  3.198615  0.953407  ...  2.102707  11.432413  6.683648   \n",
       "7557  3.211266  3.215361  0.947762  ...  2.081937  11.475731  6.670647   \n",
       "7558  3.243766  3.181593  0.954565  ...  2.089368  11.428468  6.652826   \n",
       "7559  3.240256  3.106972  0.947526  ...  2.136340  11.360853  6.611936   \n",
       "7560  3.210323  3.080499  0.944613  ...  2.165945  11.282555  6.634149   \n",
       "\n",
       "           493       494       495       496       497       498       499  \n",
       "0     1.000000  1.000000  1.000000  1.000000  1.000000  1.000000  1.000000  \n",
       "1     0.988544  0.997284  0.992158  0.994745  1.003172  1.017598  0.990130  \n",
       "2     0.984837  0.987577  1.000522  0.994004  1.003892  1.025187  0.983476  \n",
       "3     0.987909  1.002847  0.991059  0.998826  1.004629  1.040524  0.993900  \n",
       "4     0.992438  0.997251  1.007284  1.002352  0.997058  1.023938  0.982905  \n",
       "...        ...       ...       ...       ...       ...       ...       ...  \n",
       "7556  3.997931  7.086733  1.444245  2.776027  1.549018  4.345011  2.139798  \n",
       "7557  3.966596  7.138006  1.433123  2.784343  1.562218  4.327271  2.161772  \n",
       "7558  3.944982  7.108364  1.430015  2.818461  1.576409  4.329429  2.117313  \n",
       "7559  3.948533  7.017564  1.435837  2.811103  1.561387  4.406770  2.075826  \n",
       "7560  3.930543  6.994735  1.431130  2.869123  1.571447  4.377997  2.077030  \n",
       "\n",
       "[7561 rows x 500 columns]"
      ]
     },
     "execution_count": 31,
     "metadata": {},
     "output_type": "execute_result"
    }
   ],
   "source": [
    "# Run the Monte Carlo simulation to forecast 30 years cumulative returns\n",
    "# YOUR CODE HERE\n",
    "\n",
    "mc_simulation_30.calc_cumulative_return()\n"
   ]
  },
  {
   "cell_type": "code",
   "execution_count": 32,
   "metadata": {},
   "outputs": [
    {
     "data": {
      "text/plain": [
       "<AxesSubplot:title={'center':'500 Simulations of Cumulative Portfolio Return Trajectories Over the Next 7560 Trading Days.'}>"
      ]
     },
     "execution_count": 32,
     "metadata": {},
     "output_type": "execute_result"
    },
    {
     "data": {
      "image/png": "[encoded data removed]",
      "text/plain": [
       "<Figure size 432x288 with 1 Axes>"
      ]
     },
     "metadata": {
      "needs_background": "light"
     },
     "output_type": "display_data"
    }
   ],
   "source": [
    "# Visualize the 30-year Monte Carlo simulation by creating an\n",
    "# overlay line plot\n",
    "# YOUR CODE HERE\n",
    "\n",
    "mc_simulation_30.plot_simulation()"
   ]
  },
  {
   "cell_type": "markdown",
   "metadata": {},
   "source": [
    "#### Step 3: Plot the probability distribution of the Monte Carlo simulation."
   ]
  },
  {
   "cell_type": "code",
   "execution_count": 33,
   "metadata": {},
   "outputs": [
    {
     "data": {
      "text/plain": [
       "<AxesSubplot:title={'center':'Distribution of Final Cumuluative Returns Across All 500 Simulations'}, ylabel='Frequency'>"
      ]
     },
     "execution_count": 33,
     "metadata": {},
     "output_type": "execute_result"
    },
    {
     "data": {
      "image/png": "[encoded data removed]",
      "text/plain": [
       "<Figure size 432x288 with 1 Axes>"
      ]
     },
     "metadata": {
      "needs_background": "light"
     },
     "output_type": "display_data"
    }
   ],
   "source": [
    "# Visualize the probability distribution of the 30-year Monte Carlo simulation \n",
    "# by plotting a histogram\n",
    "# YOUR CODE HERE\n",
    "mc_simulation_30.plot_distribution()"
   ]
  },
  {
   "cell_type": "markdown",
   "metadata": {},
   "source": [
    "#### Step 4: Generate the summary statistics for the Monte Carlo simulation."
   ]
  },
  {
   "cell_type": "code",
   "execution_count": 34,
   "metadata": {},
   "outputs": [
    {
     "data": {
      "text/plain": [
       "count           500.000000\n",
       "mean              4.999363\n",
       "std               4.366958\n",
       "min               0.268246\n",
       "25%               2.165834\n",
       "50%               3.824287\n",
       "75%               6.419480\n",
       "max              36.076203\n",
       "95% CI Lower      0.819043\n",
       "95% CI Upper     16.566685\n",
       "Name: 7560, dtype: float64"
      ]
     },
     "execution_count": 34,
     "metadata": {},
     "output_type": "execute_result"
    }
   ],
   "source": [
    "# Generate summary statistics from the 30-year Monte Carlo simulation results\n",
    "# Save the results as a variable\n",
    "# YOUR CODE HERE\n",
    "mc_summary_30 = mc_simulation_30.summarize_cumulative_return()\n",
    "\n",
    "# Review the 30-year Monte Carlo summary statistics\n",
    "# YOUR CODE HERE\n",
    "mc_summary_30"
   ]
  },
  {
   "cell_type": "markdown",
   "metadata": {},
   "source": [
    "### Analyze the Retirement Portfolio Forecasts\n",
    "\n",
    "Using the current value of only the stock and bond portion of the member's portfolio and the summary statistics that you generated from the Monte Carlo simulation, answer the following question in your Jupyter notebook:\n",
    "\n",
    "-  What are the lower and upper bounds for the expected value of the portfolio with a 95% confidence interval?\n"
   ]
  },
  {
   "cell_type": "code",
   "execution_count": 35,
   "metadata": {},
   "outputs": [
    {
     "data": {
      "text/plain": [
       "61828.6"
      ]
     },
     "execution_count": 35,
     "metadata": {},
     "output_type": "execute_result"
    }
   ],
   "source": [
    "# Print the current balance of the stock and bond portion of the members portfolio\n",
    "# YOUR CODE HERE\n",
    "total_stocks_bonds\n"
   ]
  },
  {
   "cell_type": "code",
   "execution_count": 44,
   "metadata": {},
   "outputs": [
    {
     "data": {
      "text/plain": [
       "\"Based on historical data, your current portfolio of $61828.6 is 95% likely to be worth between $ 50640.25 and $ 1024294.93 in 30 years' time.\""
      ]
     },
     "execution_count": 44,
     "metadata": {},
     "output_type": "execute_result"
    }
   ],
   "source": [
    "# Use the lower and upper `95%` confidence intervals to calculate the range of the possible outcomes for the current stock/bond portfolio\n",
    "ci_lower_thirty_cumulative_return = mc_summary_30[8] * total_stocks_bonds\n",
    "ci_upper_thirty_cumulative_return = mc_summary_30[9] * total_stocks_bonds\n",
    "\n",
    "# Print the result of your calculations\n",
    "# YOUR CODE HERE\n",
    "f\"Based on historical data, your current portfolio of ${total_stocks_bonds} is 95% likely to be worth between ${ci_lower_thirty_cumulative_return: .2f} and ${ci_upper_thirty_cumulative_return: .2f} in 30 years' time.\"\n"
   ]
  },
  {
   "cell_type": "markdown",
   "metadata": {},
   "source": [
    "### Forecast Cumulative Returns in 10 Years\n",
    "\n",
    "The CTO of the credit union is impressed with your work on these planning tools but wonders if 30 years is a long time to wait until retirement. So, your next task is to adjust the retirement portfolio and run a new Monte Carlo simulation to find out if the changes will allow members to retire earlier.\n",
    "\n",
    "For this new Monte Carlo simulation, do the following: \n",
    "\n",
    "- Forecast the cumulative returns for 10 years from now. Because of the shortened investment horizon (30 years to 10 years), the portfolio needs to invest more heavily in the riskier asset&mdash;that is, stock&mdash;to help accumulate wealth for retirement. \n",
    "\n",
    "- Adjust the weights of the retirement portfolio so that the composition for the Monte Carlo simulation consists of 20% bonds and 80% stocks. \n",
    "\n",
    "- Run the simulation over 500 samples, and use the same data that the API call to Alpaca generated.\n",
    "\n",
    "- Based on the new Monte Carlo simulation, answer the following questions in your Jupyter notebook:\n",
    "\n",
    "    - Using the current value of only the stock and bond portion of the member's portfolio and the summary statistics that you generated from the new Monte Carlo simulation, what are the lower and upper bounds for the expected value of the portfolio (with the new weights) with a 95% confidence interval?\n",
    "\n",
    "    - Will weighting the portfolio more heavily toward stocks allow the credit union members to retire after only 10 years?\n"
   ]
  },
  {
   "cell_type": "code",
   "execution_count": 37,
   "metadata": {},
   "outputs": [
    {
     "data": {
      "text/html": [
       "<div>\n",
       "<style scoped>\n",
       "    .dataframe tbody tr th:only-of-type {\n",
       "        vertical-align: middle;\n",
       "    }\n",
       "\n",
       "    .dataframe tbody tr th {\n",
       "        vertical-align: top;\n",
       "    }\n",
       "\n",
       "    .dataframe thead tr th {\n",
       "        text-align: left;\n",
       "    }\n",
       "\n",
       "    .dataframe thead tr:last-of-type th {\n",
       "        text-align: right;\n",
       "    }\n",
       "</style>\n",
       "<table border=\"1\" class=\"dataframe\">\n",
       "  <thead>\n",
       "    <tr>\n",
       "      <th></th>\n",
       "      <th colspan=\"8\" halign=\"left\">AGG</th>\n",
       "      <th colspan=\"8\" halign=\"left\">SPY</th>\n",
       "    </tr>\n",
       "    <tr>\n",
       "      <th></th>\n",
       "      <th>open</th>\n",
       "      <th>high</th>\n",
       "      <th>low</th>\n",
       "      <th>close</th>\n",
       "      <th>volume</th>\n",
       "      <th>trade_count</th>\n",
       "      <th>vwap</th>\n",
       "      <th>daily_return</th>\n",
       "      <th>open</th>\n",
       "      <th>high</th>\n",
       "      <th>low</th>\n",
       "      <th>close</th>\n",
       "      <th>volume</th>\n",
       "      <th>trade_count</th>\n",
       "      <th>vwap</th>\n",
       "      <th>daily_return</th>\n",
       "    </tr>\n",
       "    <tr>\n",
       "      <th>timestamp</th>\n",
       "      <th></th>\n",
       "      <th></th>\n",
       "      <th></th>\n",
       "      <th></th>\n",
       "      <th></th>\n",
       "      <th></th>\n",
       "      <th></th>\n",
       "      <th></th>\n",
       "      <th></th>\n",
       "      <th></th>\n",
       "      <th></th>\n",
       "      <th></th>\n",
       "      <th></th>\n",
       "      <th></th>\n",
       "      <th></th>\n",
       "      <th></th>\n",
       "    </tr>\n",
       "  </thead>\n",
       "  <tbody>\n",
       "    <tr>\n",
       "      <th>2019-06-24 04:00:00+00:00</th>\n",
       "      <td>111.23</td>\n",
       "      <td>111.3766</td>\n",
       "      <td>111.2200</td>\n",
       "      <td>111.32</td>\n",
       "      <td>3079794</td>\n",
       "      <td>16767</td>\n",
       "      <td>111.300802</td>\n",
       "      <td>NaN</td>\n",
       "      <td>294.18</td>\n",
       "      <td>294.58</td>\n",
       "      <td>293.470</td>\n",
       "      <td>293.64</td>\n",
       "      <td>47610730</td>\n",
       "      <td>203286</td>\n",
       "      <td>293.971447</td>\n",
       "      <td>NaN</td>\n",
       "    </tr>\n",
       "    <tr>\n",
       "      <th>2019-06-25 04:00:00+00:00</th>\n",
       "      <td>111.36</td>\n",
       "      <td>111.4400</td>\n",
       "      <td>111.2200</td>\n",
       "      <td>111.34</td>\n",
       "      <td>3111092</td>\n",
       "      <td>14344</td>\n",
       "      <td>111.364505</td>\n",
       "      <td>0.000180</td>\n",
       "      <td>293.67</td>\n",
       "      <td>293.73</td>\n",
       "      <td>290.640</td>\n",
       "      <td>290.76</td>\n",
       "      <td>82344336</td>\n",
       "      <td>301447</td>\n",
       "      <td>292.000459</td>\n",
       "      <td>-0.009808</td>\n",
       "    </tr>\n",
       "    <tr>\n",
       "      <th>2019-06-26 04:00:00+00:00</th>\n",
       "      <td>111.29</td>\n",
       "      <td>111.3100</td>\n",
       "      <td>111.0600</td>\n",
       "      <td>111.09</td>\n",
       "      <td>3703224</td>\n",
       "      <td>13654</td>\n",
       "      <td>111.151757</td>\n",
       "      <td>-0.002245</td>\n",
       "      <td>291.78</td>\n",
       "      <td>292.31</td>\n",
       "      <td>290.345</td>\n",
       "      <td>290.47</td>\n",
       "      <td>52064906</td>\n",
       "      <td>226135</td>\n",
       "      <td>291.035618</td>\n",
       "      <td>-0.000997</td>\n",
       "    </tr>\n",
       "    <tr>\n",
       "      <th>2019-06-27 04:00:00+00:00</th>\n",
       "      <td>111.25</td>\n",
       "      <td>111.4100</td>\n",
       "      <td>111.1633</td>\n",
       "      <td>111.40</td>\n",
       "      <td>2963646</td>\n",
       "      <td>14735</td>\n",
       "      <td>111.338162</td>\n",
       "      <td>0.002791</td>\n",
       "      <td>291.29</td>\n",
       "      <td>292.06</td>\n",
       "      <td>290.890</td>\n",
       "      <td>291.50</td>\n",
       "      <td>40484164</td>\n",
       "      <td>185583</td>\n",
       "      <td>291.584832</td>\n",
       "      <td>0.003546</td>\n",
       "    </tr>\n",
       "    <tr>\n",
       "      <th>2019-06-28 04:00:00+00:00</th>\n",
       "      <td>111.36</td>\n",
       "      <td>111.4684</td>\n",
       "      <td>111.3200</td>\n",
       "      <td>111.35</td>\n",
       "      <td>9887791</td>\n",
       "      <td>19668</td>\n",
       "      <td>111.395360</td>\n",
       "      <td>-0.000449</td>\n",
       "      <td>292.57</td>\n",
       "      <td>293.55</td>\n",
       "      <td>292.010</td>\n",
       "      <td>293.00</td>\n",
       "      <td>59508955</td>\n",
       "      <td>246484</td>\n",
       "      <td>292.797839</td>\n",
       "      <td>0.005146</td>\n",
       "    </tr>\n",
       "  </tbody>\n",
       "</table>\n",
       "</div>"
      ],
      "text/plain": [
       "                              AGG                                       \\\n",
       "                             open      high       low   close   volume   \n",
       "timestamp                                                                \n",
       "2019-06-24 04:00:00+00:00  111.23  111.3766  111.2200  111.32  3079794   \n",
       "2019-06-25 04:00:00+00:00  111.36  111.4400  111.2200  111.34  3111092   \n",
       "2019-06-26 04:00:00+00:00  111.29  111.3100  111.0600  111.09  3703224   \n",
       "2019-06-27 04:00:00+00:00  111.25  111.4100  111.1633  111.40  2963646   \n",
       "2019-06-28 04:00:00+00:00  111.36  111.4684  111.3200  111.35  9887791   \n",
       "\n",
       "                                                                   SPY  \\\n",
       "                          trade_count        vwap daily_return    open   \n",
       "timestamp                                                                \n",
       "2019-06-24 04:00:00+00:00       16767  111.300802          NaN  294.18   \n",
       "2019-06-25 04:00:00+00:00       14344  111.364505     0.000180  293.67   \n",
       "2019-06-26 04:00:00+00:00       13654  111.151757    -0.002245  291.78   \n",
       "2019-06-27 04:00:00+00:00       14735  111.338162     0.002791  291.29   \n",
       "2019-06-28 04:00:00+00:00       19668  111.395360    -0.000449  292.57   \n",
       "\n",
       "                                                                          \\\n",
       "                             high      low   close    volume trade_count   \n",
       "timestamp                                                                  \n",
       "2019-06-24 04:00:00+00:00  294.58  293.470  293.64  47610730      203286   \n",
       "2019-06-25 04:00:00+00:00  293.73  290.640  290.76  82344336      301447   \n",
       "2019-06-26 04:00:00+00:00  292.31  290.345  290.47  52064906      226135   \n",
       "2019-06-27 04:00:00+00:00  292.06  290.890  291.50  40484164      185583   \n",
       "2019-06-28 04:00:00+00:00  293.55  292.010  293.00  59508955      246484   \n",
       "\n",
       "                                                    \n",
       "                                 vwap daily_return  \n",
       "timestamp                                           \n",
       "2019-06-24 04:00:00+00:00  293.971447          NaN  \n",
       "2019-06-25 04:00:00+00:00  292.000459    -0.009808  \n",
       "2019-06-26 04:00:00+00:00  291.035618    -0.000997  \n",
       "2019-06-27 04:00:00+00:00  291.584832     0.003546  \n",
       "2019-06-28 04:00:00+00:00  292.797839     0.005146  "
      ]
     },
     "execution_count": 37,
     "metadata": {},
     "output_type": "execute_result"
    }
   ],
   "source": [
    "# Configure a Monte Carlo simulation to forecast 10 years cumulative returns\n",
    "# The weights should be split 20% to AGG and 80% to SPY.\n",
    "# Run 500 samples.\n",
    "# YOUR CODE HERE\n",
    "\n",
    "mc_simulation_10 = MCSimulation(\n",
    "    portfolio_data=hist_pricing_data,\n",
    "    weights=[0.2,0.8],\n",
    "    num_simulation=500,\n",
    "    num_trading_days= 252 * 10\n",
    ")\n",
    "\n",
    "# Review the simulation input data\n",
    "# YOUR CODE HERE\n",
    "\n",
    "mc_simulation_10.portfolio_data.head()\n"
   ]
  },
  {
   "cell_type": "code",
   "execution_count": 38,
   "metadata": {},
   "outputs": [
    {
     "name": "stdout",
     "output_type": "stream",
     "text": [
      "Running Monte Carlo simulation number 0.\n",
      "Running Monte Carlo simulation number 10.\n",
      "Running Monte Carlo simulation number 20.\n",
      "Running Monte Carlo simulation number 30.\n",
      "Running Monte Carlo simulation number 40.\n",
      "Running Monte Carlo simulation number 50.\n",
      "Running Monte Carlo simulation number 60.\n",
      "Running Monte Carlo simulation number 70.\n",
      "Running Monte Carlo simulation number 80.\n",
      "Running Monte Carlo simulation number 90.\n",
      "Running Monte Carlo simulation number 100.\n"
     ]
    },
    {
     "name": "stderr",
     "output_type": "stream",
     "text": [
      "C:\\Users\\tonin\\OneDrive\\Fintech-Workspace\\fintechbootcamp\\Module_5_Challenge\\Starter_Code\\MCForecastTools.py:117: PerformanceWarning: DataFrame is highly fragmented.  This is usually the result of calling `frame.insert` many times, which has poor performance.  Consider joining all columns at once using pd.concat(axis=1) instead.  To get a de-fragmented frame, use `newframe = frame.copy()`\n",
      "  portfolio_cumulative_returns[n] = (1 + sim_df.fillna(0)).cumprod()\n"
     ]
    },
    {
     "name": "stdout",
     "output_type": "stream",
     "text": [
      "Running Monte Carlo simulation number 110.\n",
      "Running Monte Carlo simulation number 120.\n",
      "Running Monte Carlo simulation number 130.\n",
      "Running Monte Carlo simulation number 140.\n",
      "Running Monte Carlo simulation number 150.\n",
      "Running Monte Carlo simulation number 160.\n",
      "Running Monte Carlo simulation number 170.\n",
      "Running Monte Carlo simulation number 180.\n",
      "Running Monte Carlo simulation number 190.\n",
      "Running Monte Carlo simulation number 200.\n",
      "Running Monte Carlo simulation number 210.\n",
      "Running Monte Carlo simulation number 220.\n",
      "Running Monte Carlo simulation number 230.\n",
      "Running Monte Carlo simulation number 240.\n",
      "Running Monte Carlo simulation number 250.\n",
      "Running Monte Carlo simulation number 260.\n",
      "Running Monte Carlo simulation number 270.\n",
      "Running Monte Carlo simulation number 280.\n",
      "Running Monte Carlo simulation number 290.\n",
      "Running Monte Carlo simulation number 300.\n",
      "Running Monte Carlo simulation number 310.\n",
      "Running Monte Carlo simulation number 320.\n",
      "Running Monte Carlo simulation number 330.\n",
      "Running Monte Carlo simulation number 340.\n",
      "Running Monte Carlo simulation number 350.\n",
      "Running Monte Carlo simulation number 360.\n",
      "Running Monte Carlo simulation number 370.\n",
      "Running Monte Carlo simulation number 380.\n",
      "Running Monte Carlo simulation number 390.\n",
      "Running Monte Carlo simulation number 400.\n",
      "Running Monte Carlo simulation number 410.\n",
      "Running Monte Carlo simulation number 420.\n",
      "Running Monte Carlo simulation number 430.\n",
      "Running Monte Carlo simulation number 440.\n",
      "Running Monte Carlo simulation number 450.\n",
      "Running Monte Carlo simulation number 460.\n",
      "Running Monte Carlo simulation number 470.\n",
      "Running Monte Carlo simulation number 480.\n",
      "Running Monte Carlo simulation number 490.\n"
     ]
    },
    {
     "data": {
      "text/html": [
       "<div>\n",
       "<style scoped>\n",
       "    .dataframe tbody tr th:only-of-type {\n",
       "        vertical-align: middle;\n",
       "    }\n",
       "\n",
       "    .dataframe tbody tr th {\n",
       "        vertical-align: top;\n",
       "    }\n",
       "\n",
       "    .dataframe thead th {\n",
       "        text-align: right;\n",
       "    }\n",
       "</style>\n",
       "<table border=\"1\" class=\"dataframe\">\n",
       "  <thead>\n",
       "    <tr style=\"text-align: right;\">\n",
       "      <th></th>\n",
       "      <th>0</th>\n",
       "      <th>1</th>\n",
       "      <th>2</th>\n",
       "      <th>3</th>\n",
       "      <th>4</th>\n",
       "      <th>5</th>\n",
       "      <th>6</th>\n",
       "      <th>7</th>\n",
       "      <th>8</th>\n",
       "      <th>9</th>\n",
       "      <th>...</th>\n",
       "      <th>490</th>\n",
       "      <th>491</th>\n",
       "      <th>492</th>\n",
       "      <th>493</th>\n",
       "      <th>494</th>\n",
       "      <th>495</th>\n",
       "      <th>496</th>\n",
       "      <th>497</th>\n",
       "      <th>498</th>\n",
       "      <th>499</th>\n",
       "    </tr>\n",
       "  </thead>\n",
       "  <tbody>\n",
       "    <tr>\n",
       "      <th>0</th>\n",
       "      <td>1.000000</td>\n",
       "      <td>1.000000</td>\n",
       "      <td>1.000000</td>\n",
       "      <td>1.000000</td>\n",
       "      <td>1.000000</td>\n",
       "      <td>1.000000</td>\n",
       "      <td>1.000000</td>\n",
       "      <td>1.000000</td>\n",
       "      <td>1.000000</td>\n",
       "      <td>1.000000</td>\n",
       "      <td>...</td>\n",
       "      <td>1.000000</td>\n",
       "      <td>1.000000</td>\n",
       "      <td>1.000000</td>\n",
       "      <td>1.000000</td>\n",
       "      <td>1.000000</td>\n",
       "      <td>1.000000</td>\n",
       "      <td>1.000000</td>\n",
       "      <td>1.000000</td>\n",
       "      <td>1.000000</td>\n",
       "      <td>1.000000</td>\n",
       "    </tr>\n",
       "    <tr>\n",
       "      <th>1</th>\n",
       "      <td>1.001399</td>\n",
       "      <td>0.993345</td>\n",
       "      <td>0.989656</td>\n",
       "      <td>0.992246</td>\n",
       "      <td>0.991508</td>\n",
       "      <td>1.001751</td>\n",
       "      <td>0.980880</td>\n",
       "      <td>1.016263</td>\n",
       "      <td>1.011144</td>\n",
       "      <td>1.014682</td>\n",
       "      <td>...</td>\n",
       "      <td>0.991649</td>\n",
       "      <td>0.989438</td>\n",
       "      <td>0.987514</td>\n",
       "      <td>1.006093</td>\n",
       "      <td>1.016740</td>\n",
       "      <td>0.997359</td>\n",
       "      <td>1.006785</td>\n",
       "      <td>1.000927</td>\n",
       "      <td>0.985600</td>\n",
       "      <td>1.024861</td>\n",
       "    </tr>\n",
       "    <tr>\n",
       "      <th>2</th>\n",
       "      <td>0.998942</td>\n",
       "      <td>0.989403</td>\n",
       "      <td>0.986331</td>\n",
       "      <td>0.992430</td>\n",
       "      <td>0.972966</td>\n",
       "      <td>1.005943</td>\n",
       "      <td>0.990686</td>\n",
       "      <td>1.011955</td>\n",
       "      <td>1.033669</td>\n",
       "      <td>1.038770</td>\n",
       "      <td>...</td>\n",
       "      <td>0.984375</td>\n",
       "      <td>0.990917</td>\n",
       "      <td>0.965708</td>\n",
       "      <td>1.013730</td>\n",
       "      <td>0.998548</td>\n",
       "      <td>0.977539</td>\n",
       "      <td>1.014116</td>\n",
       "      <td>1.004487</td>\n",
       "      <td>0.976397</td>\n",
       "      <td>1.024370</td>\n",
       "    </tr>\n",
       "    <tr>\n",
       "      <th>3</th>\n",
       "      <td>0.984401</td>\n",
       "      <td>1.000811</td>\n",
       "      <td>0.968108</td>\n",
       "      <td>1.012819</td>\n",
       "      <td>0.981725</td>\n",
       "      <td>0.989643</td>\n",
       "      <td>0.980045</td>\n",
       "      <td>1.004397</td>\n",
       "      <td>1.018860</td>\n",
       "      <td>1.032536</td>\n",
       "      <td>...</td>\n",
       "      <td>0.977503</td>\n",
       "      <td>0.978726</td>\n",
       "      <td>0.982517</td>\n",
       "      <td>1.021778</td>\n",
       "      <td>0.999786</td>\n",
       "      <td>0.969002</td>\n",
       "      <td>1.022849</td>\n",
       "      <td>1.014826</td>\n",
       "      <td>0.947586</td>\n",
       "      <td>1.022906</td>\n",
       "    </tr>\n",
       "    <tr>\n",
       "      <th>4</th>\n",
       "      <td>0.991433</td>\n",
       "      <td>0.991467</td>\n",
       "      <td>0.979399</td>\n",
       "      <td>1.012938</td>\n",
       "      <td>0.977159</td>\n",
       "      <td>0.990690</td>\n",
       "      <td>0.959427</td>\n",
       "      <td>1.004306</td>\n",
       "      <td>1.001937</td>\n",
       "      <td>1.032426</td>\n",
       "      <td>...</td>\n",
       "      <td>0.989241</td>\n",
       "      <td>0.988173</td>\n",
       "      <td>0.988121</td>\n",
       "      <td>1.031995</td>\n",
       "      <td>1.008008</td>\n",
       "      <td>0.960388</td>\n",
       "      <td>1.017959</td>\n",
       "      <td>1.035332</td>\n",
       "      <td>0.950185</td>\n",
       "      <td>1.024844</td>\n",
       "    </tr>\n",
       "    <tr>\n",
       "      <th>...</th>\n",
       "      <td>...</td>\n",
       "      <td>...</td>\n",
       "      <td>...</td>\n",
       "      <td>...</td>\n",
       "      <td>...</td>\n",
       "      <td>...</td>\n",
       "      <td>...</td>\n",
       "      <td>...</td>\n",
       "      <td>...</td>\n",
       "      <td>...</td>\n",
       "      <td>...</td>\n",
       "      <td>...</td>\n",
       "      <td>...</td>\n",
       "      <td>...</td>\n",
       "      <td>...</td>\n",
       "      <td>...</td>\n",
       "      <td>...</td>\n",
       "      <td>...</td>\n",
       "      <td>...</td>\n",
       "      <td>...</td>\n",
       "      <td>...</td>\n",
       "    </tr>\n",
       "    <tr>\n",
       "      <th>2516</th>\n",
       "      <td>0.375701</td>\n",
       "      <td>1.557354</td>\n",
       "      <td>2.808058</td>\n",
       "      <td>3.519771</td>\n",
       "      <td>1.845342</td>\n",
       "      <td>4.383930</td>\n",
       "      <td>1.981701</td>\n",
       "      <td>1.751131</td>\n",
       "      <td>0.939452</td>\n",
       "      <td>2.248443</td>\n",
       "      <td>...</td>\n",
       "      <td>5.169850</td>\n",
       "      <td>3.426049</td>\n",
       "      <td>1.103270</td>\n",
       "      <td>1.933519</td>\n",
       "      <td>2.036369</td>\n",
       "      <td>3.450813</td>\n",
       "      <td>2.642286</td>\n",
       "      <td>3.430850</td>\n",
       "      <td>3.283669</td>\n",
       "      <td>0.884064</td>\n",
       "    </tr>\n",
       "    <tr>\n",
       "      <th>2517</th>\n",
       "      <td>0.375937</td>\n",
       "      <td>1.554675</td>\n",
       "      <td>2.864195</td>\n",
       "      <td>3.548643</td>\n",
       "      <td>1.807908</td>\n",
       "      <td>4.466043</td>\n",
       "      <td>1.983651</td>\n",
       "      <td>1.764143</td>\n",
       "      <td>0.929709</td>\n",
       "      <td>2.250140</td>\n",
       "      <td>...</td>\n",
       "      <td>5.183358</td>\n",
       "      <td>3.430175</td>\n",
       "      <td>1.122203</td>\n",
       "      <td>1.960793</td>\n",
       "      <td>2.008164</td>\n",
       "      <td>3.499569</td>\n",
       "      <td>2.690698</td>\n",
       "      <td>3.348312</td>\n",
       "      <td>3.293804</td>\n",
       "      <td>0.884898</td>\n",
       "    </tr>\n",
       "    <tr>\n",
       "      <th>2518</th>\n",
       "      <td>0.377725</td>\n",
       "      <td>1.570533</td>\n",
       "      <td>2.848727</td>\n",
       "      <td>3.551159</td>\n",
       "      <td>1.821034</td>\n",
       "      <td>4.422782</td>\n",
       "      <td>1.966622</td>\n",
       "      <td>1.763785</td>\n",
       "      <td>0.920711</td>\n",
       "      <td>2.269224</td>\n",
       "      <td>...</td>\n",
       "      <td>5.222707</td>\n",
       "      <td>3.474447</td>\n",
       "      <td>1.135003</td>\n",
       "      <td>1.964626</td>\n",
       "      <td>2.006172</td>\n",
       "      <td>3.405175</td>\n",
       "      <td>2.675870</td>\n",
       "      <td>3.313801</td>\n",
       "      <td>3.329921</td>\n",
       "      <td>0.888914</td>\n",
       "    </tr>\n",
       "    <tr>\n",
       "      <th>2519</th>\n",
       "      <td>0.380714</td>\n",
       "      <td>1.570116</td>\n",
       "      <td>2.848276</td>\n",
       "      <td>3.562208</td>\n",
       "      <td>1.821494</td>\n",
       "      <td>4.376702</td>\n",
       "      <td>1.989407</td>\n",
       "      <td>1.750013</td>\n",
       "      <td>0.923556</td>\n",
       "      <td>2.283602</td>\n",
       "      <td>...</td>\n",
       "      <td>5.236594</td>\n",
       "      <td>3.426294</td>\n",
       "      <td>1.105801</td>\n",
       "      <td>1.961020</td>\n",
       "      <td>2.020482</td>\n",
       "      <td>3.355223</td>\n",
       "      <td>2.674868</td>\n",
       "      <td>3.314396</td>\n",
       "      <td>3.338481</td>\n",
       "      <td>0.878972</td>\n",
       "    </tr>\n",
       "    <tr>\n",
       "      <th>2520</th>\n",
       "      <td>0.378922</td>\n",
       "      <td>1.588563</td>\n",
       "      <td>2.830811</td>\n",
       "      <td>3.559931</td>\n",
       "      <td>1.840352</td>\n",
       "      <td>4.405700</td>\n",
       "      <td>1.999984</td>\n",
       "      <td>1.751095</td>\n",
       "      <td>0.927529</td>\n",
       "      <td>2.299652</td>\n",
       "      <td>...</td>\n",
       "      <td>5.190487</td>\n",
       "      <td>3.485457</td>\n",
       "      <td>1.108374</td>\n",
       "      <td>1.937401</td>\n",
       "      <td>1.997743</td>\n",
       "      <td>3.419478</td>\n",
       "      <td>2.634978</td>\n",
       "      <td>3.328115</td>\n",
       "      <td>3.322403</td>\n",
       "      <td>0.867236</td>\n",
       "    </tr>\n",
       "  </tbody>\n",
       "</table>\n",
       "<p>2521 rows × 500 columns</p>\n",
       "</div>"
      ],
      "text/plain": [
       "           0         1         2         3         4         5         6    \\\n",
       "0     1.000000  1.000000  1.000000  1.000000  1.000000  1.000000  1.000000   \n",
       "1     1.001399  0.993345  0.989656  0.992246  0.991508  1.001751  0.980880   \n",
       "2     0.998942  0.989403  0.986331  0.992430  0.972966  1.005943  0.990686   \n",
       "3     0.984401  1.000811  0.968108  1.012819  0.981725  0.989643  0.980045   \n",
       "4     0.991433  0.991467  0.979399  1.012938  0.977159  0.990690  0.959427   \n",
       "...        ...       ...       ...       ...       ...       ...       ...   \n",
       "2516  0.375701  1.557354  2.808058  3.519771  1.845342  4.383930  1.981701   \n",
       "2517  0.375937  1.554675  2.864195  3.548643  1.807908  4.466043  1.983651   \n",
       "2518  0.377725  1.570533  2.848727  3.551159  1.821034  4.422782  1.966622   \n",
       "2519  0.380714  1.570116  2.848276  3.562208  1.821494  4.376702  1.989407   \n",
       "2520  0.378922  1.588563  2.830811  3.559931  1.840352  4.405700  1.999984   \n",
       "\n",
       "           7         8         9    ...       490       491       492  \\\n",
       "0     1.000000  1.000000  1.000000  ...  1.000000  1.000000  1.000000   \n",
       "1     1.016263  1.011144  1.014682  ...  0.991649  0.989438  0.987514   \n",
       "2     1.011955  1.033669  1.038770  ...  0.984375  0.990917  0.965708   \n",
       "3     1.004397  1.018860  1.032536  ...  0.977503  0.978726  0.982517   \n",
       "4     1.004306  1.001937  1.032426  ...  0.989241  0.988173  0.988121   \n",
       "...        ...       ...       ...  ...       ...       ...       ...   \n",
       "2516  1.751131  0.939452  2.248443  ...  5.169850  3.426049  1.103270   \n",
       "2517  1.764143  0.929709  2.250140  ...  5.183358  3.430175  1.122203   \n",
       "2518  1.763785  0.920711  2.269224  ...  5.222707  3.474447  1.135003   \n",
       "2519  1.750013  0.923556  2.283602  ...  5.236594  3.426294  1.105801   \n",
       "2520  1.751095  0.927529  2.299652  ...  5.190487  3.485457  1.108374   \n",
       "\n",
       "           493       494       495       496       497       498       499  \n",
       "0     1.000000  1.000000  1.000000  1.000000  1.000000  1.000000  1.000000  \n",
       "1     1.006093  1.016740  0.997359  1.006785  1.000927  0.985600  1.024861  \n",
       "2     1.013730  0.998548  0.977539  1.014116  1.004487  0.976397  1.024370  \n",
       "3     1.021778  0.999786  0.969002  1.022849  1.014826  0.947586  1.022906  \n",
       "4     1.031995  1.008008  0.960388  1.017959  1.035332  0.950185  1.024844  \n",
       "...        ...       ...       ...       ...       ...       ...       ...  \n",
       "2516  1.933519  2.036369  3.450813  2.642286  3.430850  3.283669  0.884064  \n",
       "2517  1.960793  2.008164  3.499569  2.690698  3.348312  3.293804  0.884898  \n",
       "2518  1.964626  2.006172  3.405175  2.675870  3.313801  3.329921  0.888914  \n",
       "2519  1.961020  2.020482  3.355223  2.674868  3.314396  3.338481  0.878972  \n",
       "2520  1.937401  1.997743  3.419478  2.634978  3.328115  3.322403  0.867236  \n",
       "\n",
       "[2521 rows x 500 columns]"
      ]
     },
     "execution_count": 38,
     "metadata": {},
     "output_type": "execute_result"
    }
   ],
   "source": [
    "# Run the Monte Carlo simulation to forecast 10 years cumulative returns\n",
    "# YOUR CODE HERE\n",
    "\n",
    "mc_simulation_10.calc_cumulative_return()\n"
   ]
  },
  {
   "cell_type": "code",
   "execution_count": 39,
   "metadata": {},
   "outputs": [
    {
     "data": {
      "text/plain": [
       "<AxesSubplot:title={'center':'500 Simulations of Cumulative Portfolio Return Trajectories Over the Next 2520 Trading Days.'}>"
      ]
     },
     "execution_count": 39,
     "metadata": {},
     "output_type": "execute_result"
    },
    {
     "data": {
      "image/png": "[encoded data removed]",
      "text/plain": [
       "<Figure size 432x288 with 1 Axes>"
      ]
     },
     "metadata": {
      "needs_background": "light"
     },
     "output_type": "display_data"
    }
   ],
   "source": [
    "# Visualize the 10-year Monte Carlo simulation by creating an\n",
    "# overlay line plot\n",
    "# YOUR CODE HERE\n",
    "\n",
    "mc_simulation_10.plot_simulation()\n"
   ]
  },
  {
   "cell_type": "code",
   "execution_count": 40,
   "metadata": {},
   "outputs": [
    {
     "data": {
      "text/plain": [
       "<AxesSubplot:title={'center':'Distribution of Final Cumuluative Returns Across All 500 Simulations'}, ylabel='Frequency'>"
      ]
     },
     "execution_count": 40,
     "metadata": {},
     "output_type": "execute_result"
    },
    {
     "data": {
      "image/png": "[encoded data removed]",
      "text/plain": [
       "<Figure size 432x288 with 1 Axes>"
      ]
     },
     "metadata": {
      "needs_background": "light"
     },
     "output_type": "display_data"
    }
   ],
   "source": [
    "# Visualize the probability distribution of the 10-year Monte Carlo simulation \n",
    "# by plotting a histogram\n",
    "# YOUR CODE HERE\n",
    "\n",
    "mc_simulation_10.plot_distribution()"
   ]
  },
  {
   "cell_type": "code",
   "execution_count": 41,
   "metadata": {},
   "outputs": [
    {
     "data": {
      "text/plain": [
       "count           500.000000\n",
       "mean              2.163249\n",
       "std               1.361011\n",
       "min               0.271954\n",
       "25%               1.187832\n",
       "50%               1.818390\n",
       "75%               2.749619\n",
       "max               8.477585\n",
       "95% CI Lower      0.539212\n",
       "95% CI Upper      5.491201\n",
       "Name: 2520, dtype: float64"
      ]
     },
     "execution_count": 41,
     "metadata": {},
     "output_type": "execute_result"
    }
   ],
   "source": [
    "# Generate summary statistics from the 10-year Monte Carlo simulation results\n",
    "# Save the results as a variable\n",
    "# YOUR CODE HERE\n",
    "mc_summary_10 = mc_simulation_10.summarize_cumulative_return()\n",
    "\n",
    "# Review the 10-year Monte Carlo summary statistics\n",
    "# YOUR CODE HERE\n",
    "mc_summary_10"
   ]
  },
  {
   "cell_type": "markdown",
   "metadata": {},
   "source": [
    "### Answer the following questions:"
   ]
  },
  {
   "cell_type": "markdown",
   "metadata": {},
   "source": [
    "#### Question: Using the current value of only the stock and bond portion of the member's portfolio and the summary statistics that you generated from the new Monte Carlo simulation, what are the lower and upper bounds for the expected value of the portfolio (with the new weights) with a 95% confidence interval?"
   ]
  },
  {
   "cell_type": "code",
   "execution_count": 42,
   "metadata": {},
   "outputs": [
    {
     "data": {
      "text/plain": [
       "61828.6"
      ]
     },
     "execution_count": 42,
     "metadata": {},
     "output_type": "execute_result"
    }
   ],
   "source": [
    "# Print the current balance of the stock and bond portion of the members portfolio\n",
    "# YOUR CODE HERE\n",
    "total_stocks_bonds\n"
   ]
  },
  {
   "cell_type": "code",
   "execution_count": 45,
   "metadata": {},
   "outputs": [
    {
     "data": {
      "text/plain": [
       "\"Based on historical data, your current portfolio of $61828.6 is 95% likely to be worth between $ 33338.72 and $ 339513.28 in 30 years' time.\""
      ]
     },
     "execution_count": 45,
     "metadata": {},
     "output_type": "execute_result"
    }
   ],
   "source": [
    "# Use the lower and upper `95%` confidence intervals to calculate the range of the possible outcomes for the current stock/bond portfolio\n",
    "ci_lower_ten_cumulative_return = mc_summary_10[8] * total_stocks_bonds\n",
    "ci_upper_ten_cumulative_return = mc_summary_10[9] * total_stocks_bonds\n",
    "\n",
    "# Print the result of your calculations\n",
    "# YOUR CODE HERE\n",
    "f\"Based on historical data, your current portfolio of ${total_stocks_bonds} is 95% likely to be worth between ${ci_lower_ten_cumulative_return: .2f} and ${ci_upper_ten_cumulative_return: .2f} in 30 years' time.\"\n",
    "\n"
   ]
  },
  {
   "cell_type": "markdown",
   "metadata": {},
   "source": [
    "#### Question: Will weighting the portfolio more heavily to stocks allow the credit union members to retire after only 10 years?"
   ]
  },
  {
   "cell_type": "raw",
   "metadata": {},
   "source": [
    "**Answer** # YOUR ANSWER HERE\n",
    "\n",
    "Weighing the portfolio heavily to stocks over a 10 year period is very unlikely to allow the member to retire after 10 years. \n",
    "\n",
    "The average return on the portfolio is around $141,0000, which is unlikely to support spending needs in retirement.\n"
   ]
  },
  {
   "cell_type": "code",
   "execution_count": null,
   "metadata": {},
   "outputs": [],
   "source": []
  }
 ],
 "metadata": {
  "kernelspec": {
   "display_name": "Python 3 (ipykernel)",
   "language": "python",
   "name": "python3"
  },
  "language_info": {
   "codemirror_mode": {
    "name": "ipython",
    "version": 3
   },
   "file_extension": ".py",
   "mimetype": "text/x-python",
   "name": "python",
   "nbconvert_exporter": "python",
   "pygments_lexer": "ipython3",
   "version": "3.7.11"
  }
 },
 "nbformat": 4,
 "nbformat_minor": 4
}
